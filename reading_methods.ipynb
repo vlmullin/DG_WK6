{
 "cells": [
  {
   "cell_type": "code",
   "execution_count": 10,
   "metadata": {
    "_cell_guid": "b1076dfc-b9ad-4769-8c92-a6c4dae69d19",
    "_uuid": "8f2839f25d086af736a60e9eeb907d3b93b6e0e5",
    "execution": {
     "iopub.execute_input": "2023-04-09T02:11:39.575096Z",
     "iopub.status.busy": "2023-04-09T02:11:39.574734Z",
     "iopub.status.idle": "2023-04-09T02:11:39.584098Z",
     "shell.execute_reply": "2023-04-09T02:11:39.583330Z",
     "shell.execute_reply.started": "2023-04-09T02:11:39.575066Z"
    }
   },
   "outputs": [
    {
     "name": "stdout",
     "output_type": "stream",
     "text": [
      "/kaggle/input/meta-kaggle/KernelTags.csv\n",
      "/kaggle/input/meta-kaggle/KernelVersionCompetitionSources.csv\n",
      "/kaggle/input/meta-kaggle/Datasets.csv\n",
      "/kaggle/input/meta-kaggle/KernelVersionKernelSources.csv\n",
      "/kaggle/input/meta-kaggle/KernelVotes.csv\n",
      "/kaggle/input/meta-kaggle/Submissions.csv\n",
      "/kaggle/input/meta-kaggle/KernelLanguages.csv\n",
      "/kaggle/input/meta-kaggle/Users.csv\n",
      "/kaggle/input/meta-kaggle/ForumMessageVotes.csv\n",
      "/kaggle/input/meta-kaggle/Competitions.csv\n",
      "/kaggle/input/meta-kaggle/DatasetTaskSubmissions.csv\n",
      "/kaggle/input/meta-kaggle/UserAchievements.csv\n",
      "/kaggle/input/meta-kaggle/UserOrganizations.csv\n",
      "/kaggle/input/meta-kaggle/Teams.csv\n",
      "/kaggle/input/meta-kaggle/UserFollowers.csv\n",
      "/kaggle/input/meta-kaggle/CompetitionTags.csv\n",
      "/kaggle/input/meta-kaggle/Kernels.csv\n",
      "/kaggle/input/meta-kaggle/Organizations.csv\n",
      "/kaggle/input/meta-kaggle/Datasources.csv\n",
      "/kaggle/input/meta-kaggle/ForumTopics.csv\n",
      "/kaggle/input/meta-kaggle/DatasetVersions.csv\n",
      "/kaggle/input/meta-kaggle/DatasetVotes.csv\n",
      "/kaggle/input/meta-kaggle/TeamMemberships.csv\n",
      "/kaggle/input/meta-kaggle/Forums.csv\n",
      "/kaggle/input/meta-kaggle/KernelVersions.csv\n",
      "/kaggle/input/meta-kaggle/ForumMessages.csv\n",
      "/kaggle/input/meta-kaggle/KernelVersionDatasetSources.csv\n",
      "/kaggle/input/meta-kaggle/Episodes.csv\n",
      "/kaggle/input/meta-kaggle/EpisodeAgents.csv\n",
      "/kaggle/input/meta-kaggle/Tags.csv\n",
      "/kaggle/input/meta-kaggle/DatasetTasks.csv\n",
      "/kaggle/input/meta-kaggle/DatasetTags.csv\n"
     ]
    }
   ],
   "source": [
    "# This Python 3 environment comes with many helpful analytics libraries installed\n",
    "# It is defined by the kaggle/python Docker image: https://github.com/kaggle/docker-python\n",
    "# For example, here's several helpful packages to load\n",
    "\n",
    "import numpy as np # linear algebra\n",
    "import pandas as pd # data processing, CSV file I/O (e.g. pd.read_csv)\n",
    "\n",
    "# Input data files are available in the read-only \"../input/\" directory\n",
    "# For example, running this (by clicking run or pressing Shift+Enter) will list all files under the input directory\n",
    "\n",
    "import os\n",
    "for dirname, _, filenames in os.walk('/kaggle/input'):\n",
    "    for filename in filenames:\n",
    "        print(os.path.join(dirname, filename))\n",
    "\n",
    "# You can write up to 20GB to the current directory (/kaggle/working/) that gets preserved as output when you create a version using \"Save & Run All\" \n",
    "# You can also write temporary files to /kaggle/temp/, but they won't be saved outside of the current session"
   ]
  },
  {
   "cell_type": "code",
   "execution_count": 21,
   "metadata": {
    "execution": {
     "iopub.execute_input": "2023-04-09T02:23:49.188981Z",
     "iopub.status.busy": "2023-04-09T02:23:49.188259Z",
     "iopub.status.idle": "2023-04-09T02:25:06.449057Z",
     "shell.execute_reply": "2023-04-09T02:25:06.447704Z",
     "shell.execute_reply.started": "2023-04-09T02:23:49.188942Z"
    }
   },
   "outputs": [
    {
     "name": "stdout",
     "output_type": "stream",
     "text": [
      "        Id  UserId AchievementType  Tier TierAchievementDate  Points  \\\n",
      "0  3739822       1      Discussion     1          11/06/2019       0   \n",
      "1  3916402       1    Competitions     1          11/06/2019       0   \n",
      "2  3739823     368    Competitions     1          07/15/2016     130   \n",
      "3  3739824     368         Scripts     2          09/21/2016      38   \n",
      "4  3739825     368      Discussion     2          08/30/2016     143   \n",
      "\n",
      "   CurrentRanking  HighestRanking  TotalGold  TotalSilver  TotalBronze  \n",
      "0             NaN             3.0          0            0           14  \n",
      "1             NaN             NaN          0            0            0  \n",
      "2             NaN            75.0          0            0            0  \n",
      "3          2639.0          2005.0          0            3           14  \n",
      "4           532.0           319.0         14           13          139  \n",
      "(52132908, 11)\n"
     ]
    }
   ],
   "source": [
    "import time\n",
    "\n",
    "startTime = time.time()\n",
    "\n",
    "df=pd.read_csv('/kaggle/input/meta-kaggle/UserAchievements.csv')\n",
    "\n",
    "executionTime = (time.time() - startTime)\n",
    "time='Pandas Execution time in seconds: ' + str(executionTime)\n",
    "size=df.shape\n",
    "print(df.head())\n",
    "print(size)\n",
    "\n",
    "file_object = open('times.txt', 'a')\n",
    "\n",
    "file_object.write(time)\n",
    "#file_object.write(df.head())\n",
    "file_object.close()"
   ]
  },
  {
   "cell_type": "code",
   "execution_count": 27,
   "metadata": {
    "execution": {
     "iopub.execute_input": "2023-04-09T02:32:52.298360Z",
     "iopub.status.busy": "2023-04-09T02:32:52.298000Z",
     "iopub.status.idle": "2023-04-09T02:32:52.303987Z",
     "shell.execute_reply": "2023-04-09T02:32:52.302939Z",
     "shell.execute_reply.started": "2023-04-09T02:32:52.298326Z"
    }
   },
   "outputs": [],
   "source": []
  },
  {
   "cell_type": "code",
   "execution_count": 28,
   "metadata": {
    "execution": {
     "iopub.execute_input": "2023-04-09T02:32:54.021090Z",
     "iopub.status.busy": "2023-04-09T02:32:54.020691Z",
     "iopub.status.idle": "2023-04-09T02:32:54.027346Z",
     "shell.execute_reply": "2023-04-09T02:32:54.026150Z",
     "shell.execute_reply.started": "2023-04-09T02:32:54.021053Z"
    }
   },
   "outputs": [
    {
     "name": "stdout",
     "output_type": "stream",
     "text": [
      "Pandas Execution time in seconds: 77.24895787239075\n"
     ]
    }
   ],
   "source": [
    "with open('times.txt','r') as f:\n",
    "    line=f.readline()\n",
    "    print(line)    "
   ]
  },
  {
   "cell_type": "code",
   "execution_count": 29,
   "metadata": {
    "execution": {
     "iopub.execute_input": "2023-04-09T02:35:26.591662Z",
     "iopub.status.busy": "2023-04-09T02:35:26.591244Z",
     "iopub.status.idle": "2023-04-09T02:35:40.918111Z",
     "shell.execute_reply": "2023-04-09T02:35:40.917115Z",
     "shell.execute_reply.started": "2023-04-09T02:35:26.591630Z"
    }
   },
   "outputs": [
    {
     "data": {
      "text/html": [
       "<style type='text/css'>\n",
       ".datatable table.frame { margin-bottom: 0; }\n",
       ".datatable table.frame thead { border-bottom: none; }\n",
       ".datatable table.frame tr.coltypes td {  color: #FFFFFF;  line-height: 6px;  padding: 0 0.5em;}\n",
       ".datatable .bool    { background: #DDDD99; }\n",
       ".datatable .object  { background: #565656; }\n",
       ".datatable .int     { background: #5D9E5D; }\n",
       ".datatable .float   { background: #4040CC; }\n",
       ".datatable .str     { background: #CC4040; }\n",
       ".datatable .time    { background: #40CC40; }\n",
       ".datatable .row_index {  background: var(--jp-border-color3);  border-right: 1px solid var(--jp-border-color0);  color: var(--jp-ui-font-color3);  font-size: 9px;}\n",
       ".datatable .frame tbody td { text-align: left; }\n",
       ".datatable .frame tr.coltypes .row_index {  background: var(--jp-border-color0);}\n",
       ".datatable th:nth-child(2) { padding-left: 12px; }\n",
       ".datatable .hellipsis {  color: var(--jp-cell-editor-border-color);}\n",
       ".datatable .vellipsis {  background: var(--jp-layout-color0);  color: var(--jp-cell-editor-border-color);}\n",
       ".datatable .na {  color: var(--jp-cell-editor-border-color);  font-size: 80%;}\n",
       ".datatable .sp {  opacity: 0.25;}\n",
       ".datatable .footer { font-size: 9px; }\n",
       ".datatable .frame_dimensions {  background: var(--jp-border-color3);  border-top: 1px solid var(--jp-border-color0);  color: var(--jp-ui-font-color3);  display: inline-block;  opacity: 0.6;  padding: 1px 10px 1px 5px;}\n",
       "</style>\n"
      ],
      "text/plain": [
       "<IPython.core.display.HTML object>"
      ]
     },
     "metadata": {},
     "output_type": "display_data"
    },
    {
     "name": "stdout",
     "output_type": "stream",
     "text": [
      "   |      Id  UserId  AchievementType   Tier  TierAchievementDate  Points  CurrentRanking  HighestRanking  TotalGold  TotalSilver  TotalBronze\n",
      "   |   int32   int32  str32            int32  str32                 int32           int32           int32      int32        int32        int32\n",
      "-- + -------  ------  ---------------  -----  -------------------  ------  --------------  --------------  ---------  -----------  -----------\n",
      " 0 | 3739822       1  Discussion           1  11/06/2019                0              NA               3          0            0           14\n",
      " 1 | 3916402       1  Competitions         1  11/06/2019                0              NA              NA          0            0            0\n",
      " 2 | 3739823     368  Competitions         1  07/15/2016              130              NA              75          0            0            0\n",
      " 3 | 3739824     368  Scripts              2  09/21/2016               38            2639            2005          0            3           14\n",
      " 4 | 3739825     368  Discussion           2  08/30/2016              143             532             319         14           13          139\n",
      " 5 | 3739826     381  Competitions         1  07/15/2016                2              NA            2824          0            0            0\n",
      " 6 | 3739827     381  Scripts              1  07/15/2016                0              NA              NA          0            0            0\n",
      " 7 | 3739828     381  Discussion           2  07/15/2016                0            3043              82          0            1           53\n",
      " 8 | 3916403     383  Competitions         0  07/15/2016                0              NA              NA          0            0            0\n",
      " 9 | 3916404     384  Competitions         0  07/15/2016                0              NA              NA          0            0            0\n",
      "[10 rows x 11 columns]\n",
      "\n",
      "(52132908, 11)\n"
     ]
    }
   ],
   "source": [
    "import datatable\n",
    "import time\n",
    "\n",
    "startTime = time.time()\n",
    "\n",
    "df=datatable.fread('/kaggle/input/meta-kaggle/UserAchievements.csv')\n",
    "\n",
    "executionTime = (time.time() - startTime)\n",
    "time='Datatable Execution time in seconds: ' + str(executionTime)+'\\n'\n",
    "size=df.shape\n",
    "print(df.head())\n",
    "print(size)\n",
    "\n",
    "file_object = open('times.txt', 'a')\n",
    "\n",
    "file_object.write(time)\n",
    "#file_object.write(df.head())\n",
    "file_object.close()"
   ]
  },
  {
   "cell_type": "code",
   "execution_count": 31,
   "metadata": {
    "execution": {
     "iopub.execute_input": "2023-04-09T02:35:50.016252Z",
     "iopub.status.busy": "2023-04-09T02:35:50.014537Z",
     "iopub.status.idle": "2023-04-09T02:35:50.024410Z",
     "shell.execute_reply": "2023-04-09T02:35:50.022964Z",
     "shell.execute_reply.started": "2023-04-09T02:35:50.016176Z"
    }
   },
   "outputs": [
    {
     "name": "stdout",
     "output_type": "stream",
     "text": [
      "Pandas Execution time in seconds: 77.24895787239075Datatable Execution time in seconds: 14.297883749008179\n"
     ]
    }
   ],
   "source": [
    "with open('times.txt','r') as f:\n",
    "    line=f.readline()\n",
    "    \n",
    "    print(line)  "
   ]
  },
  {
   "cell_type": "code",
   "execution_count": 42,
   "metadata": {
    "execution": {
     "iopub.execute_input": "2023-04-09T02:48:27.027619Z",
     "iopub.status.busy": "2023-04-09T02:48:27.027205Z",
     "iopub.status.idle": "2023-04-09T02:48:48.375118Z",
     "shell.execute_reply": "2023-04-09T02:48:48.373666Z",
     "shell.execute_reply.started": "2023-04-09T02:48:27.027585Z"
    }
   },
   "outputs": [
    {
     "name": "stdout",
     "output_type": "stream",
     "text": [
      "        Id  UserId AchievementType  Tier TierAchievementDate  Points  \\\n",
      "0  3739822       1      Discussion     1          11/06/2019       0   \n",
      "1  3916402       1    Competitions     1          11/06/2019       0   \n",
      "2  3739823     368    Competitions     1          07/15/2016     130   \n",
      "3  3739824     368         Scripts     2          09/21/2016      38   \n",
      "4  3739825     368      Discussion     2          08/30/2016     143   \n",
      "\n",
      "   CurrentRanking  HighestRanking  TotalGold  TotalSilver  TotalBronze  \n",
      "0             NaN             3.0          0            0           14  \n",
      "1             NaN             NaN          0            0            0  \n",
      "2             NaN            75.0          0            0            0  \n",
      "3          2639.0          2005.0          0            3           14  \n",
      "4           532.0           319.0         14           13          139  \n",
      "(52132908, 11)\n"
     ]
    }
   ],
   "source": [
    "import dask.dataframe as dd\n",
    "import time\n",
    "\n",
    "startTime = time.time()\n",
    "\n",
    "df=dd.read_csv('/kaggle/input/meta-kaggle/UserAchievements.csv')\n",
    "df = df.compute()\n",
    "\n",
    "executionTime = (time.time() - startTime)\n",
    "time='Dask Execution time in seconds: ' + str(executionTime)+'\\n'\n",
    "size=df.shape\n",
    "print(df.head())\n",
    "print(size)\n",
    "\n",
    "file_object = open('times.txt', 'a')\n",
    "\n",
    "file_object.write(time)\n",
    "#file_object.write(df.head())\n",
    "file_object.close()"
   ]
  },
  {
   "cell_type": "code",
   "execution_count": 44,
   "metadata": {
    "execution": {
     "iopub.execute_input": "2023-04-09T02:49:06.222839Z",
     "iopub.status.busy": "2023-04-09T02:49:06.222450Z",
     "iopub.status.idle": "2023-04-09T02:49:06.230356Z",
     "shell.execute_reply": "2023-04-09T02:49:06.228875Z",
     "shell.execute_reply.started": "2023-04-09T02:49:06.222804Z"
    }
   },
   "outputs": [
    {
     "name": "stdout",
     "output_type": "stream",
     "text": [
      "Pandas Execution time in seconds: 77.24895787239075Datatable Execution time in seconds: 14.297883749008179Dask Execution time in seconds: 0.4336414337158203\n",
      "\n"
     ]
    }
   ],
   "source": [
    "with open('times.txt','r') as f:\n",
    "    line=f.readline()\n",
    "    \n",
    "    print(line)  "
   ]
  },
  {
   "cell_type": "code",
   "execution_count": 58,
   "metadata": {
    "execution": {
     "iopub.execute_input": "2023-04-09T02:57:52.788102Z",
     "iopub.status.busy": "2023-04-09T02:57:52.787709Z",
     "iopub.status.idle": "2023-04-09T02:58:09.891994Z",
     "shell.execute_reply": "2023-04-09T02:58:09.890329Z",
     "shell.execute_reply.started": "2023-04-09T02:57:52.788072Z"
    }
   },
   "outputs": [
    {
     "name": "stdout",
     "output_type": "stream",
     "text": [
      "Requirement already satisfied: modin[all] in /opt/conda/lib/python3.7/site-packages (0.12.1)\n",
      "Requirement already satisfied: packaging in /opt/conda/lib/python3.7/site-packages (from modin[all]) (23.0)\n",
      "Requirement already satisfied: fsspec in /opt/conda/lib/python3.7/site-packages (from modin[all]) (2023.1.0)\n",
      "Requirement already satisfied: pandas==1.3.5 in /opt/conda/lib/python3.7/site-packages (from modin[all]) (1.3.5)\n",
      "Requirement already satisfied: numpy>=1.16.5 in /opt/conda/lib/python3.7/site-packages (from modin[all]) (1.21.6)\n",
      "Requirement already satisfied: cloudpickle in /opt/conda/lib/python3.7/site-packages (from modin[all]) (2.2.1)\n",
      "Requirement already satisfied: ray[default]>=1.4.0 in /opt/conda/lib/python3.7/site-packages (from modin[all]) (2.2.0)\n",
      "Requirement already satisfied: pyarrow>=1.0 in /opt/conda/lib/python3.7/site-packages (from modin[all]) (6.0.1)\n",
      "Collecting rpyc==4.1.5\n",
      "  Downloading rpyc-4.1.5-py3-none-any.whl (68 kB)\n",
      "\u001b[2K     \u001b[90m━━━━━━━━━━━━━━━━━━━━━━━━━━━━━━━━━━━━━━━━\u001b[0m \u001b[32m68.9/68.9 kB\u001b[0m \u001b[31m4.7 MB/s\u001b[0m eta \u001b[36m0:00:00\u001b[0m\n",
      "\u001b[?25hCollecting modin-spreadsheet>=0.1.0\n",
      "  Downloading modin_spreadsheet-0.1.2-py2.py3-none-any.whl (1.8 MB)\n",
      "\u001b[2K     \u001b[90m━━━━━━━━━━━━━━━━━━━━━━━━━━━━━━━━━━━━━━━━\u001b[0m \u001b[32m1.8/1.8 MB\u001b[0m \u001b[31m43.0 MB/s\u001b[0m eta \u001b[36m0:00:00\u001b[0m00:01\u001b[0m\n",
      "\u001b[?25hRequirement already satisfied: distributed>=2.22.0 in /opt/conda/lib/python3.7/site-packages (from modin[all]) (2022.2.0)\n",
      "Requirement already satisfied: boto3 in /opt/conda/lib/python3.7/site-packages (from modin[all]) (1.26.100)\n",
      "Requirement already satisfied: dask>=2.22.0 in /opt/conda/lib/python3.7/site-packages (from modin[all]) (2022.2.0)\n",
      "Requirement already satisfied: pytz>=2017.3 in /opt/conda/lib/python3.7/site-packages (from pandas==1.3.5->modin[all]) (2022.7.1)\n",
      "Requirement already satisfied: python-dateutil>=2.7.3 in /opt/conda/lib/python3.7/site-packages (from pandas==1.3.5->modin[all]) (2.8.2)\n",
      "Collecting plumbum\n",
      "  Downloading plumbum-1.8.1-py3-none-any.whl (126 kB)\n",
      "\u001b[2K     \u001b[90m━━━━━━━━━━━━━━━━━━━━━━━━━━━━━━━━━━━━━━\u001b[0m \u001b[32m126.7/126.7 kB\u001b[0m \u001b[31m12.3 MB/s\u001b[0m eta \u001b[36m0:00:00\u001b[0m\n",
      "\u001b[?25hRequirement already satisfied: partd>=0.3.10 in /opt/conda/lib/python3.7/site-packages (from dask>=2.22.0->modin[all]) (1.3.0)\n",
      "Requirement already satisfied: pyyaml>=5.3.1 in /opt/conda/lib/python3.7/site-packages (from dask>=2.22.0->modin[all]) (6.0)\n",
      "Requirement already satisfied: toolz>=0.8.2 in /opt/conda/lib/python3.7/site-packages (from dask>=2.22.0->modin[all]) (0.11.2)\n",
      "Requirement already satisfied: click>=6.6 in /opt/conda/lib/python3.7/site-packages (from distributed>=2.22.0->modin[all]) (8.1.3)\n",
      "Requirement already satisfied: zict>=0.1.3 in /opt/conda/lib/python3.7/site-packages (from distributed>=2.22.0->modin[all]) (2.2.0)\n",
      "Requirement already satisfied: psutil>=5.0 in /opt/conda/lib/python3.7/site-packages (from distributed>=2.22.0->modin[all]) (5.9.3)\n",
      "Requirement already satisfied: msgpack>=0.6.0 in /opt/conda/lib/python3.7/site-packages (from distributed>=2.22.0->modin[all]) (1.0.4)\n",
      "Requirement already satisfied: setuptools in /opt/conda/lib/python3.7/site-packages (from distributed>=2.22.0->modin[all]) (59.8.0)\n",
      "Requirement already satisfied: tornado>=5 in /opt/conda/lib/python3.7/site-packages (from distributed>=2.22.0->modin[all]) (6.2)\n",
      "Requirement already satisfied: sortedcontainers!=2.0.0,!=2.0.1 in /opt/conda/lib/python3.7/site-packages (from distributed>=2.22.0->modin[all]) (2.4.0)\n",
      "Requirement already satisfied: jinja2 in /opt/conda/lib/python3.7/site-packages (from distributed>=2.22.0->modin[all]) (3.1.2)\n",
      "Requirement already satisfied: tblib>=1.6.0 in /opt/conda/lib/python3.7/site-packages (from distributed>=2.22.0->modin[all]) (1.7.0)\n",
      "Requirement already satisfied: ipywidgets>=7.0.0 in /opt/conda/lib/python3.7/site-packages (from modin-spreadsheet>=0.1.0->modin[all]) (7.7.1)\n",
      "Requirement already satisfied: notebook>=6.0.3 in /opt/conda/lib/python3.7/site-packages (from modin-spreadsheet>=0.1.0->modin[all]) (6.5.2)\n",
      "Collecting jupyter>=1.0.0\n",
      "  Downloading jupyter-1.0.0-py2.py3-none-any.whl (2.7 kB)\n",
      "Requirement already satisfied: requests in /opt/conda/lib/python3.7/site-packages (from ray[default]>=1.4.0->modin[all]) (2.28.2)\n",
      "Requirement already satisfied: filelock in /opt/conda/lib/python3.7/site-packages (from ray[default]>=1.4.0->modin[all]) (3.9.0)\n",
      "Requirement already satisfied: grpcio>=1.32.0 in /opt/conda/lib/python3.7/site-packages (from ray[default]>=1.4.0->modin[all]) (1.51.1)\n",
      "Requirement already satisfied: typing-extensions in /opt/conda/lib/python3.7/site-packages (from ray[default]>=1.4.0->modin[all]) (4.4.0)\n",
      "Requirement already satisfied: frozenlist in /opt/conda/lib/python3.7/site-packages (from ray[default]>=1.4.0->modin[all]) (1.3.3)\n",
      "Requirement already satisfied: protobuf!=3.19.5,>=3.15.3 in /opt/conda/lib/python3.7/site-packages (from ray[default]>=1.4.0->modin[all]) (3.20.3)\n",
      "Requirement already satisfied: jsonschema in /opt/conda/lib/python3.7/site-packages (from ray[default]>=1.4.0->modin[all]) (4.17.3)\n",
      "Requirement already satisfied: attrs in /opt/conda/lib/python3.7/site-packages (from ray[default]>=1.4.0->modin[all]) (22.2.0)\n",
      "Requirement already satisfied: virtualenv>=20.0.24 in /opt/conda/lib/python3.7/site-packages (from ray[default]>=1.4.0->modin[all]) (20.17.1)\n",
      "Requirement already satisfied: aiosignal in /opt/conda/lib/python3.7/site-packages (from ray[default]>=1.4.0->modin[all]) (1.3.1)\n",
      "Requirement already satisfied: py-spy>=0.2.0 in /opt/conda/lib/python3.7/site-packages (from ray[default]>=1.4.0->modin[all]) (0.3.14)\n",
      "Requirement already satisfied: opencensus in /opt/conda/lib/python3.7/site-packages (from ray[default]>=1.4.0->modin[all]) (0.11.1)\n",
      "Requirement already satisfied: aiohttp-cors in /opt/conda/lib/python3.7/site-packages (from ray[default]>=1.4.0->modin[all]) (0.7.0)\n",
      "Requirement already satisfied: aiohttp>=3.7 in /opt/conda/lib/python3.7/site-packages (from ray[default]>=1.4.0->modin[all]) (3.8.3)\n",
      "Collecting prometheus-client<0.14.0,>=0.7.1\n",
      "  Downloading prometheus_client-0.13.1-py3-none-any.whl (57 kB)\n",
      "\u001b[2K     \u001b[90m━━━━━━━━━━━━━━━━━━━━━━━━━━━━━━━━━━━━━━━━\u001b[0m \u001b[32m57.1/57.1 kB\u001b[0m \u001b[31m5.1 MB/s\u001b[0m eta \u001b[36m0:00:00\u001b[0m\n",
      "\u001b[?25hRequirement already satisfied: colorful in /opt/conda/lib/python3.7/site-packages (from ray[default]>=1.4.0->modin[all]) (0.5.5)\n",
      "Requirement already satisfied: smart-open in /opt/conda/lib/python3.7/site-packages (from ray[default]>=1.4.0->modin[all]) (6.3.0)\n",
      "Requirement already satisfied: gpustat>=1.0.0 in /opt/conda/lib/python3.7/site-packages (from ray[default]>=1.4.0->modin[all]) (1.0.0)\n",
      "Requirement already satisfied: pydantic in /opt/conda/lib/python3.7/site-packages (from ray[default]>=1.4.0->modin[all]) (1.10.4)\n",
      "Requirement already satisfied: jmespath<2.0.0,>=0.7.1 in /opt/conda/lib/python3.7/site-packages (from boto3->modin[all]) (1.0.1)\n",
      "Requirement already satisfied: s3transfer<0.7.0,>=0.6.0 in /opt/conda/lib/python3.7/site-packages (from boto3->modin[all]) (0.6.0)\n",
      "Collecting botocore<1.30.0,>=1.29.100\n",
      "  Downloading botocore-1.29.109-py3-none-any.whl (10.6 MB)\n",
      "\u001b[2K     \u001b[90m━━━━━━━━━━━━━━━━━━━━━━━━━━━━━━━━━━━━━━━━\u001b[0m \u001b[32m10.6/10.6 MB\u001b[0m \u001b[31m48.4 MB/s\u001b[0m eta \u001b[36m0:00:00\u001b[0m00:01\u001b[0m00:01\u001b[0m\n",
      "\u001b[?25hRequirement already satisfied: yarl<2.0,>=1.0 in /opt/conda/lib/python3.7/site-packages (from aiohttp>=3.7->ray[default]>=1.4.0->modin[all]) (1.8.2)\n",
      "Requirement already satisfied: asynctest==0.13.0 in /opt/conda/lib/python3.7/site-packages (from aiohttp>=3.7->ray[default]>=1.4.0->modin[all]) (0.13.0)\n",
      "Requirement already satisfied: charset-normalizer<3.0,>=2.0 in /opt/conda/lib/python3.7/site-packages (from aiohttp>=3.7->ray[default]>=1.4.0->modin[all]) (2.1.1)\n",
      "Requirement already satisfied: multidict<7.0,>=4.5 in /opt/conda/lib/python3.7/site-packages (from aiohttp>=3.7->ray[default]>=1.4.0->modin[all]) (6.0.4)\n",
      "Requirement already satisfied: async-timeout<5.0,>=4.0.0a3 in /opt/conda/lib/python3.7/site-packages (from aiohttp>=3.7->ray[default]>=1.4.0->modin[all]) (4.0.2)\n",
      "Requirement already satisfied: urllib3<1.27,>=1.25.4 in /opt/conda/lib/python3.7/site-packages (from botocore<1.30.0,>=1.29.100->boto3->modin[all]) (1.26.14)\n",
      "Requirement already satisfied: importlib-metadata in /opt/conda/lib/python3.7/site-packages (from click>=6.6->distributed>=2.22.0->modin[all]) (4.11.4)\n",
      "Requirement already satisfied: blessed>=1.17.1 in /opt/conda/lib/python3.7/site-packages (from gpustat>=1.0.0->ray[default]>=1.4.0->modin[all]) (1.19.1)\n",
      "Requirement already satisfied: nvidia-ml-py<=11.495.46,>=11.450.129 in /opt/conda/lib/python3.7/site-packages (from gpustat>=1.0.0->ray[default]>=1.4.0->modin[all]) (11.495.46)\n",
      "Requirement already satisfied: six>=1.7 in /opt/conda/lib/python3.7/site-packages (from gpustat>=1.0.0->ray[default]>=1.4.0->modin[all]) (1.16.0)\n",
      "Requirement already satisfied: jupyterlab-widgets>=1.0.0 in /opt/conda/lib/python3.7/site-packages (from ipywidgets>=7.0.0->modin-spreadsheet>=0.1.0->modin[all]) (3.0.5)\n",
      "Requirement already satisfied: traitlets>=4.3.1 in /opt/conda/lib/python3.7/site-packages (from ipywidgets>=7.0.0->modin-spreadsheet>=0.1.0->modin[all]) (5.8.1)\n",
      "Requirement already satisfied: ipython>=4.0.0 in /opt/conda/lib/python3.7/site-packages (from ipywidgets>=7.0.0->modin-spreadsheet>=0.1.0->modin[all]) (7.34.0)\n",
      "Requirement already satisfied: ipython-genutils~=0.2.0 in /opt/conda/lib/python3.7/site-packages (from ipywidgets>=7.0.0->modin-spreadsheet>=0.1.0->modin[all]) (0.2.0)\n",
      "Requirement already satisfied: ipykernel>=4.5.1 in /opt/conda/lib/python3.7/site-packages (from ipywidgets>=7.0.0->modin-spreadsheet>=0.1.0->modin[all]) (6.16.2)\n",
      "Requirement already satisfied: widgetsnbextension~=3.6.0 in /opt/conda/lib/python3.7/site-packages (from ipywidgets>=7.0.0->modin-spreadsheet>=0.1.0->modin[all]) (3.6.4)\n",
      "Requirement already satisfied: jupyter-console in /opt/conda/lib/python3.7/site-packages (from jupyter>=1.0.0->modin-spreadsheet>=0.1.0->modin[all]) (6.6.3)\n",
      "Requirement already satisfied: nbconvert in /opt/conda/lib/python3.7/site-packages (from jupyter>=1.0.0->modin-spreadsheet>=0.1.0->modin[all]) (6.4.5)\n",
      "Requirement already satisfied: qtconsole in /opt/conda/lib/python3.7/site-packages (from jupyter>=1.0.0->modin-spreadsheet>=0.1.0->modin[all]) (5.4.2)\n",
      "Requirement already satisfied: terminado>=0.8.3 in /opt/conda/lib/python3.7/site-packages (from notebook>=6.0.3->modin-spreadsheet>=0.1.0->modin[all]) (0.17.1)\n",
      "Requirement already satisfied: jupyter-client>=5.3.4 in /opt/conda/lib/python3.7/site-packages (from notebook>=6.0.3->modin-spreadsheet>=0.1.0->modin[all]) (7.4.9)\n",
      "Requirement already satisfied: nest-asyncio>=1.5 in /opt/conda/lib/python3.7/site-packages (from notebook>=6.0.3->modin-spreadsheet>=0.1.0->modin[all]) (1.5.6)\n",
      "Requirement already satisfied: Send2Trash>=1.8.0 in /opt/conda/lib/python3.7/site-packages (from notebook>=6.0.3->modin-spreadsheet>=0.1.0->modin[all]) (1.8.0)\n",
      "Requirement already satisfied: pyzmq>=17 in /opt/conda/lib/python3.7/site-packages (from notebook>=6.0.3->modin-spreadsheet>=0.1.0->modin[all]) (25.0.0)\n",
      "Requirement already satisfied: nbformat in /opt/conda/lib/python3.7/site-packages (from notebook>=6.0.3->modin-spreadsheet>=0.1.0->modin[all]) (5.7.3)\n",
      "Requirement already satisfied: nbclassic>=0.4.7 in /opt/conda/lib/python3.7/site-packages (from notebook>=6.0.3->modin-spreadsheet>=0.1.0->modin[all]) (0.4.8)\n",
      "Requirement already satisfied: argon2-cffi in /opt/conda/lib/python3.7/site-packages (from notebook>=6.0.3->modin-spreadsheet>=0.1.0->modin[all]) (21.3.0)\n",
      "Requirement already satisfied: jupyter-core>=4.6.1 in /opt/conda/lib/python3.7/site-packages (from notebook>=6.0.3->modin-spreadsheet>=0.1.0->modin[all]) (4.12.0)\n",
      "Requirement already satisfied: locket in /opt/conda/lib/python3.7/site-packages (from partd>=0.3.10->dask>=2.22.0->modin[all]) (1.0.0)\n",
      "Requirement already satisfied: distlib<1,>=0.3.6 in /opt/conda/lib/python3.7/site-packages (from virtualenv>=20.0.24->ray[default]>=1.4.0->modin[all]) (0.3.6)\n",
      "Requirement already satisfied: platformdirs<3,>=2.4 in /opt/conda/lib/python3.7/site-packages (from virtualenv>=20.0.24->ray[default]>=1.4.0->modin[all]) (2.6.2)\n",
      "Requirement already satisfied: heapdict in /opt/conda/lib/python3.7/site-packages (from zict>=0.1.3->distributed>=2.22.0->modin[all]) (1.0.1)\n",
      "Requirement already satisfied: MarkupSafe>=2.0 in /opt/conda/lib/python3.7/site-packages (from jinja2->distributed>=2.22.0->modin[all]) (2.1.1)\n",
      "Requirement already satisfied: importlib-resources>=1.4.0 in /opt/conda/lib/python3.7/site-packages (from jsonschema->ray[default]>=1.4.0->modin[all]) (5.10.2)\n",
      "Requirement already satisfied: pkgutil-resolve-name>=1.3.10 in /opt/conda/lib/python3.7/site-packages (from jsonschema->ray[default]>=1.4.0->modin[all]) (1.3.10)\n",
      "Requirement already satisfied: pyrsistent!=0.17.0,!=0.17.1,!=0.17.2,>=0.14.0 in /opt/conda/lib/python3.7/site-packages (from jsonschema->ray[default]>=1.4.0->modin[all]) (0.19.3)\n",
      "Requirement already satisfied: google-api-core<3.0.0,>=1.0.0 in /opt/conda/lib/python3.7/site-packages (from opencensus->ray[default]>=1.4.0->modin[all]) (1.34.0)\n",
      "Requirement already satisfied: opencensus-context>=0.1.3 in /opt/conda/lib/python3.7/site-packages (from opencensus->ray[default]>=1.4.0->modin[all]) (0.1.3)\n",
      "Requirement already satisfied: idna<4,>=2.5 in /opt/conda/lib/python3.7/site-packages (from requests->ray[default]>=1.4.0->modin[all]) (3.4)\n",
      "Requirement already satisfied: certifi>=2017.4.17 in /opt/conda/lib/python3.7/site-packages (from requests->ray[default]>=1.4.0->modin[all]) (2022.12.7)\n",
      "Requirement already satisfied: wcwidth>=0.1.4 in /opt/conda/lib/python3.7/site-packages (from blessed>=1.17.1->gpustat>=1.0.0->ray[default]>=1.4.0->modin[all]) (0.2.6)\n",
      "Requirement already satisfied: googleapis-common-protos<2.0dev,>=1.56.2 in /opt/conda/lib/python3.7/site-packages (from google-api-core<3.0.0,>=1.0.0->opencensus->ray[default]>=1.4.0->modin[all]) (1.58.0)\n",
      "Requirement already satisfied: google-auth<3.0dev,>=1.25.0 in /opt/conda/lib/python3.7/site-packages (from google-api-core<3.0.0,>=1.0.0->opencensus->ray[default]>=1.4.0->modin[all]) (1.35.0)\n",
      "Requirement already satisfied: zipp>=0.5 in /opt/conda/lib/python3.7/site-packages (from importlib-metadata->click>=6.6->distributed>=2.22.0->modin[all]) (3.11.0)\n",
      "Requirement already satisfied: debugpy>=1.0 in /opt/conda/lib/python3.7/site-packages (from ipykernel>=4.5.1->ipywidgets>=7.0.0->modin-spreadsheet>=0.1.0->modin[all]) (1.6.6)\n",
      "Requirement already satisfied: matplotlib-inline>=0.1 in /opt/conda/lib/python3.7/site-packages (from ipykernel>=4.5.1->ipywidgets>=7.0.0->modin-spreadsheet>=0.1.0->modin[all]) (0.1.6)\n",
      "Requirement already satisfied: prompt-toolkit!=3.0.0,!=3.0.1,<3.1.0,>=2.0.0 in /opt/conda/lib/python3.7/site-packages (from ipython>=4.0.0->ipywidgets>=7.0.0->modin-spreadsheet>=0.1.0->modin[all]) (3.0.36)\n",
      "Requirement already satisfied: pygments in /opt/conda/lib/python3.7/site-packages (from ipython>=4.0.0->ipywidgets>=7.0.0->modin-spreadsheet>=0.1.0->modin[all]) (2.14.0)\n",
      "Requirement already satisfied: backcall in /opt/conda/lib/python3.7/site-packages (from ipython>=4.0.0->ipywidgets>=7.0.0->modin-spreadsheet>=0.1.0->modin[all]) (0.2.0)\n",
      "Requirement already satisfied: jedi>=0.16 in /opt/conda/lib/python3.7/site-packages (from ipython>=4.0.0->ipywidgets>=7.0.0->modin-spreadsheet>=0.1.0->modin[all]) (0.18.2)\n",
      "Requirement already satisfied: pexpect>4.3 in /opt/conda/lib/python3.7/site-packages (from ipython>=4.0.0->ipywidgets>=7.0.0->modin-spreadsheet>=0.1.0->modin[all]) (4.8.0)\n",
      "Requirement already satisfied: decorator in /opt/conda/lib/python3.7/site-packages (from ipython>=4.0.0->ipywidgets>=7.0.0->modin-spreadsheet>=0.1.0->modin[all]) (5.1.1)\n",
      "Requirement already satisfied: pickleshare in /opt/conda/lib/python3.7/site-packages (from ipython>=4.0.0->ipywidgets>=7.0.0->modin-spreadsheet>=0.1.0->modin[all]) (0.7.5)\n",
      "Requirement already satisfied: entrypoints in /opt/conda/lib/python3.7/site-packages (from jupyter-client>=5.3.4->notebook>=6.0.3->modin-spreadsheet>=0.1.0->modin[all]) (0.4)\n",
      "Requirement already satisfied: jupyter-server>=1.8 in /opt/conda/lib/python3.7/site-packages (from nbclassic>=0.4.7->notebook>=6.0.3->modin-spreadsheet>=0.1.0->modin[all]) (1.23.5)\n",
      "Requirement already satisfied: notebook-shim>=0.1.0 in /opt/conda/lib/python3.7/site-packages (from nbclassic>=0.4.7->notebook>=6.0.3->modin-spreadsheet>=0.1.0->modin[all]) (0.2.2)\n",
      "Requirement already satisfied: beautifulsoup4 in /opt/conda/lib/python3.7/site-packages (from nbconvert->jupyter>=1.0.0->modin-spreadsheet>=0.1.0->modin[all]) (4.11.1)\n",
      "Requirement already satisfied: testpath in /opt/conda/lib/python3.7/site-packages (from nbconvert->jupyter>=1.0.0->modin-spreadsheet>=0.1.0->modin[all]) (0.6.0)\n",
      "Requirement already satisfied: mistune<2,>=0.8.1 in /opt/conda/lib/python3.7/site-packages (from nbconvert->jupyter>=1.0.0->modin-spreadsheet>=0.1.0->modin[all]) (0.8.4)\n",
      "Requirement already satisfied: pandocfilters>=1.4.1 in /opt/conda/lib/python3.7/site-packages (from nbconvert->jupyter>=1.0.0->modin-spreadsheet>=0.1.0->modin[all]) (1.5.0)\n",
      "Requirement already satisfied: bleach in /opt/conda/lib/python3.7/site-packages (from nbconvert->jupyter>=1.0.0->modin-spreadsheet>=0.1.0->modin[all]) (6.0.0)\n",
      "Requirement already satisfied: defusedxml in /opt/conda/lib/python3.7/site-packages (from nbconvert->jupyter>=1.0.0->modin-spreadsheet>=0.1.0->modin[all]) (0.7.1)\n",
      "Requirement already satisfied: jupyterlab-pygments in /opt/conda/lib/python3.7/site-packages (from nbconvert->jupyter>=1.0.0->modin-spreadsheet>=0.1.0->modin[all]) (0.2.2)\n",
      "Requirement already satisfied: nbclient<0.6.0,>=0.5.0 in /opt/conda/lib/python3.7/site-packages (from nbconvert->jupyter>=1.0.0->modin-spreadsheet>=0.1.0->modin[all]) (0.5.13)\n",
      "Requirement already satisfied: fastjsonschema in /opt/conda/lib/python3.7/site-packages (from nbformat->notebook>=6.0.3->modin-spreadsheet>=0.1.0->modin[all]) (2.16.2)\n",
      "Requirement already satisfied: ptyprocess in /opt/conda/lib/python3.7/site-packages (from terminado>=0.8.3->notebook>=6.0.3->modin-spreadsheet>=0.1.0->modin[all]) (0.7.0)\n",
      "Requirement already satisfied: argon2-cffi-bindings in /opt/conda/lib/python3.7/site-packages (from argon2-cffi->notebook>=6.0.3->modin-spreadsheet>=0.1.0->modin[all]) (21.2.0)\n",
      "Requirement already satisfied: qtpy>=2.0.1 in /opt/conda/lib/python3.7/site-packages (from qtconsole->jupyter>=1.0.0->modin-spreadsheet>=0.1.0->modin[all]) (2.3.1)\n",
      "Requirement already satisfied: pyasn1-modules>=0.2.1 in /opt/conda/lib/python3.7/site-packages (from google-auth<3.0dev,>=1.25.0->google-api-core<3.0.0,>=1.0.0->opencensus->ray[default]>=1.4.0->modin[all]) (0.2.8)\n",
      "Requirement already satisfied: cachetools<5.0,>=2.0.0 in /opt/conda/lib/python3.7/site-packages (from google-auth<3.0dev,>=1.25.0->google-api-core<3.0.0,>=1.0.0->opencensus->ray[default]>=1.4.0->modin[all]) (4.2.4)\n",
      "Requirement already satisfied: rsa<5,>=3.1.4 in /opt/conda/lib/python3.7/site-packages (from google-auth<3.0dev,>=1.25.0->google-api-core<3.0.0,>=1.0.0->opencensus->ray[default]>=1.4.0->modin[all]) (4.9)\n",
      "Requirement already satisfied: parso<0.9.0,>=0.8.0 in /opt/conda/lib/python3.7/site-packages (from jedi>=0.16->ipython>=4.0.0->ipywidgets>=7.0.0->modin-spreadsheet>=0.1.0->modin[all]) (0.8.3)\n",
      "Requirement already satisfied: anyio<4,>=3.1.0 in /opt/conda/lib/python3.7/site-packages (from jupyter-server>=1.8->nbclassic>=0.4.7->notebook>=6.0.3->modin-spreadsheet>=0.1.0->modin[all]) (3.6.2)\n",
      "Requirement already satisfied: websocket-client in /opt/conda/lib/python3.7/site-packages (from jupyter-server>=1.8->nbclassic>=0.4.7->notebook>=6.0.3->modin-spreadsheet>=0.1.0->modin[all]) (1.4.2)\n",
      "Requirement already satisfied: cffi>=1.0.1 in /opt/conda/lib/python3.7/site-packages (from argon2-cffi-bindings->argon2-cffi->notebook>=6.0.3->modin-spreadsheet>=0.1.0->modin[all]) (1.15.1)\n",
      "Requirement already satisfied: soupsieve>1.2 in /opt/conda/lib/python3.7/site-packages (from beautifulsoup4->nbconvert->jupyter>=1.0.0->modin-spreadsheet>=0.1.0->modin[all]) (2.3.2.post1)\n",
      "Requirement already satisfied: webencodings in /opt/conda/lib/python3.7/site-packages (from bleach->nbconvert->jupyter>=1.0.0->modin-spreadsheet>=0.1.0->modin[all]) (0.5.1)\n",
      "Requirement already satisfied: sniffio>=1.1 in /opt/conda/lib/python3.7/site-packages (from anyio<4,>=3.1.0->jupyter-server>=1.8->nbclassic>=0.4.7->notebook>=6.0.3->modin-spreadsheet>=0.1.0->modin[all]) (1.3.0)\n",
      "Requirement already satisfied: pycparser in /opt/conda/lib/python3.7/site-packages (from cffi>=1.0.1->argon2-cffi-bindings->argon2-cffi->notebook>=6.0.3->modin-spreadsheet>=0.1.0->modin[all]) (2.21)\n",
      "Requirement already satisfied: pyasn1<0.5.0,>=0.4.6 in /opt/conda/lib/python3.7/site-packages (from pyasn1-modules>=0.2.1->google-auth<3.0dev,>=1.25.0->google-api-core<3.0.0,>=1.0.0->opencensus->ray[default]>=1.4.0->modin[all]) (0.4.8)\n",
      "Installing collected packages: prometheus-client, plumbum, rpyc, botocore, jupyter, modin-spreadsheet\n",
      "  Attempting uninstall: prometheus-client\n",
      "    Found existing installation: prometheus-client 0.15.0\n",
      "    Uninstalling prometheus-client-0.15.0:\n",
      "      Successfully uninstalled prometheus-client-0.15.0\n",
      "  Attempting uninstall: botocore\n",
      "    Found existing installation: botocore 1.27.59\n",
      "    Uninstalling botocore-1.27.59:\n",
      "      Successfully uninstalled botocore-1.27.59\n",
      "\u001b[31mERROR: pip's dependency resolver does not currently take into account all the packages that are installed. This behaviour is the source of the following dependency conflicts.\n",
      "aiobotocore 2.4.2 requires botocore<1.27.60,>=1.27.59, but you have botocore 1.29.109 which is incompatible.\u001b[0m\u001b[31m\n",
      "\u001b[0mSuccessfully installed botocore-1.29.109 jupyter-1.0.0 modin-spreadsheet-0.1.2 plumbum-1.8.1 prometheus-client-0.13.1 rpyc-4.1.5\n",
      "\u001b[33mWARNING: Running pip as the 'root' user can result in broken permissions and conflicting behaviour with the system package manager. It is recommended to use a virtual environment instead: https://pip.pypa.io/warnings/venv\u001b[0m\u001b[33m\n",
      "\u001b[0m"
     ]
    }
   ],
   "source": [
    "#pip install modin\n",
    "!pip install 'modin[all]' # Install all of the above"
   ]
  },
  {
   "cell_type": "code",
   "execution_count": 59,
   "metadata": {
    "execution": {
     "iopub.execute_input": "2023-04-09T02:58:09.894691Z",
     "iopub.status.busy": "2023-04-09T02:58:09.894333Z",
     "iopub.status.idle": "2023-04-09T02:58:09.929418Z",
     "shell.execute_reply": "2023-04-09T02:58:09.927488Z",
     "shell.execute_reply.started": "2023-04-09T02:58:09.894656Z"
    }
   },
   "outputs": [
    {
     "ename": "KeyError",
     "evalue": "'CPU'",
     "output_type": "error",
     "traceback": [
      "\u001b[0;31m---------------------------------------------------------------------------\u001b[0m",
      "\u001b[0;31mKeyError\u001b[0m                                  Traceback (most recent call last)",
      "\u001b[0;32m/tmp/ipykernel_27/2508482295.py\u001b[0m in \u001b[0;36m<module>\u001b[0;34m\u001b[0m\n\u001b[1;32m      4\u001b[0m \u001b[0mstartTime\u001b[0m \u001b[0;34m=\u001b[0m \u001b[0mtime\u001b[0m\u001b[0;34m.\u001b[0m\u001b[0mtime\u001b[0m\u001b[0;34m(\u001b[0m\u001b[0;34m)\u001b[0m\u001b[0;34m\u001b[0m\u001b[0;34m\u001b[0m\u001b[0m\n\u001b[1;32m      5\u001b[0m \u001b[0;34m\u001b[0m\u001b[0m\n\u001b[0;32m----> 6\u001b[0;31m \u001b[0mdf\u001b[0m\u001b[0;34m=\u001b[0m\u001b[0mpd\u001b[0m\u001b[0;34m.\u001b[0m\u001b[0mread_csv\u001b[0m\u001b[0;34m(\u001b[0m\u001b[0;34m'/kaggle/input/meta-kaggle/UserAchievements.csv'\u001b[0m\u001b[0;34m)\u001b[0m\u001b[0;34m\u001b[0m\u001b[0;34m\u001b[0m\u001b[0m\n\u001b[0m\u001b[1;32m      7\u001b[0m \u001b[0;34m\u001b[0m\u001b[0m\n\u001b[1;32m      8\u001b[0m \u001b[0mexecutionTime\u001b[0m \u001b[0;34m=\u001b[0m \u001b[0;34m(\u001b[0m\u001b[0mtime\u001b[0m\u001b[0;34m.\u001b[0m\u001b[0mtime\u001b[0m\u001b[0;34m(\u001b[0m\u001b[0;34m)\u001b[0m \u001b[0;34m-\u001b[0m \u001b[0mstartTime\u001b[0m\u001b[0;34m)\u001b[0m\u001b[0;34m\u001b[0m\u001b[0;34m\u001b[0m\u001b[0m\n",
      "\u001b[0;32m/opt/conda/lib/python3.7/site-packages/modin/pandas/io.py\u001b[0m in \u001b[0;36mread_csv\u001b[0;34m(filepath_or_buffer, sep, delimiter, header, names, index_col, usecols, squeeze, prefix, mangle_dupe_cols, dtype, engine, converters, true_values, false_values, skipinitialspace, skiprows, nrows, na_values, keep_default_na, na_filter, verbose, skip_blank_lines, parse_dates, infer_datetime_format, keep_date_col, date_parser, dayfirst, cache_dates, iterator, chunksize, compression, thousands, decimal, lineterminator, quotechar, quoting, escapechar, comment, encoding, encoding_errors, dialect, error_bad_lines, warn_bad_lines, on_bad_lines, skipfooter, doublequote, delim_whitespace, low_memory, memory_map, float_precision, storage_options)\u001b[0m\n\u001b[1;32m    133\u001b[0m     \u001b[0m_\u001b[0m\u001b[0;34m,\u001b[0m \u001b[0m_\u001b[0m\u001b[0;34m,\u001b[0m \u001b[0m_\u001b[0m\u001b[0;34m,\u001b[0m \u001b[0mf_locals\u001b[0m \u001b[0;34m=\u001b[0m \u001b[0minspect\u001b[0m\u001b[0;34m.\u001b[0m\u001b[0mgetargvalues\u001b[0m\u001b[0;34m(\u001b[0m\u001b[0minspect\u001b[0m\u001b[0;34m.\u001b[0m\u001b[0mcurrentframe\u001b[0m\u001b[0;34m(\u001b[0m\u001b[0;34m)\u001b[0m\u001b[0;34m)\u001b[0m\u001b[0;34m\u001b[0m\u001b[0;34m\u001b[0m\u001b[0m\n\u001b[1;32m    134\u001b[0m     \u001b[0mkwargs\u001b[0m \u001b[0;34m=\u001b[0m \u001b[0;34m{\u001b[0m\u001b[0mk\u001b[0m\u001b[0;34m:\u001b[0m \u001b[0mv\u001b[0m \u001b[0;32mfor\u001b[0m \u001b[0mk\u001b[0m\u001b[0;34m,\u001b[0m \u001b[0mv\u001b[0m \u001b[0;32min\u001b[0m \u001b[0mf_locals\u001b[0m\u001b[0;34m.\u001b[0m\u001b[0mitems\u001b[0m\u001b[0;34m(\u001b[0m\u001b[0;34m)\u001b[0m \u001b[0;32mif\u001b[0m \u001b[0mk\u001b[0m \u001b[0;32min\u001b[0m \u001b[0m_pd_read_csv_signature\u001b[0m\u001b[0;34m}\u001b[0m\u001b[0;34m\u001b[0m\u001b[0;34m\u001b[0m\u001b[0m\n\u001b[0;32m--> 135\u001b[0;31m     \u001b[0;32mreturn\u001b[0m \u001b[0m_read\u001b[0m\u001b[0;34m(\u001b[0m\u001b[0;34m**\u001b[0m\u001b[0mkwargs\u001b[0m\u001b[0;34m)\u001b[0m\u001b[0;34m\u001b[0m\u001b[0;34m\u001b[0m\u001b[0m\n\u001b[0m\u001b[1;32m    136\u001b[0m \u001b[0;34m\u001b[0m\u001b[0m\n\u001b[1;32m    137\u001b[0m \u001b[0;34m\u001b[0m\u001b[0m\n",
      "\u001b[0;32m/opt/conda/lib/python3.7/site-packages/modin/pandas/io.py\u001b[0m in \u001b[0;36m_read\u001b[0;34m(**kwargs)\u001b[0m\n\u001b[1;32m     56\u001b[0m     \u001b[0;32mfrom\u001b[0m \u001b[0mmodin\u001b[0m\u001b[0;34m.\u001b[0m\u001b[0mcore\u001b[0m\u001b[0;34m.\u001b[0m\u001b[0mexecution\u001b[0m\u001b[0;34m.\u001b[0m\u001b[0mdispatching\u001b[0m\u001b[0;34m.\u001b[0m\u001b[0mfactories\u001b[0m\u001b[0;34m.\u001b[0m\u001b[0mdispatcher\u001b[0m \u001b[0;32mimport\u001b[0m \u001b[0mFactoryDispatcher\u001b[0m\u001b[0;34m\u001b[0m\u001b[0;34m\u001b[0m\u001b[0m\n\u001b[1;32m     57\u001b[0m \u001b[0;34m\u001b[0m\u001b[0m\n\u001b[0;32m---> 58\u001b[0;31m     \u001b[0mEngine\u001b[0m\u001b[0;34m.\u001b[0m\u001b[0msubscribe\u001b[0m\u001b[0;34m(\u001b[0m\u001b[0m_update_engine\u001b[0m\u001b[0;34m)\u001b[0m\u001b[0;34m\u001b[0m\u001b[0;34m\u001b[0m\u001b[0m\n\u001b[0m\u001b[1;32m     59\u001b[0m     \u001b[0msqueeze\u001b[0m \u001b[0;34m=\u001b[0m \u001b[0mkwargs\u001b[0m\u001b[0;34m.\u001b[0m\u001b[0mpop\u001b[0m\u001b[0;34m(\u001b[0m\u001b[0;34m\"squeeze\"\u001b[0m\u001b[0;34m,\u001b[0m \u001b[0;32mFalse\u001b[0m\u001b[0;34m)\u001b[0m\u001b[0;34m\u001b[0m\u001b[0;34m\u001b[0m\u001b[0m\n\u001b[1;32m     60\u001b[0m     \u001b[0mpd_obj\u001b[0m \u001b[0;34m=\u001b[0m \u001b[0mFactoryDispatcher\u001b[0m\u001b[0;34m.\u001b[0m\u001b[0mread_csv\u001b[0m\u001b[0;34m(\u001b[0m\u001b[0;34m**\u001b[0m\u001b[0mkwargs\u001b[0m\u001b[0;34m)\u001b[0m\u001b[0;34m\u001b[0m\u001b[0;34m\u001b[0m\u001b[0m\n",
      "\u001b[0;32m/opt/conda/lib/python3.7/site-packages/modin/config/pubsub.py\u001b[0m in \u001b[0;36msubscribe\u001b[0;34m(cls, callback)\u001b[0m\n\u001b[1;32m    211\u001b[0m         \"\"\"\n\u001b[1;32m    212\u001b[0m         \u001b[0mcls\u001b[0m\u001b[0;34m.\u001b[0m\u001b[0m_subs\u001b[0m\u001b[0;34m.\u001b[0m\u001b[0mappend\u001b[0m\u001b[0;34m(\u001b[0m\u001b[0mcallback\u001b[0m\u001b[0;34m)\u001b[0m\u001b[0;34m\u001b[0m\u001b[0;34m\u001b[0m\u001b[0m\n\u001b[0;32m--> 213\u001b[0;31m         \u001b[0mcallback\u001b[0m\u001b[0;34m(\u001b[0m\u001b[0mcls\u001b[0m\u001b[0;34m)\u001b[0m\u001b[0;34m\u001b[0m\u001b[0;34m\u001b[0m\u001b[0m\n\u001b[0m\u001b[1;32m    214\u001b[0m \u001b[0;34m\u001b[0m\u001b[0m\n\u001b[1;32m    215\u001b[0m     \u001b[0;34m@\u001b[0m\u001b[0mclassmethod\u001b[0m\u001b[0;34m\u001b[0m\u001b[0;34m\u001b[0m\u001b[0m\n",
      "\u001b[0;32m/opt/conda/lib/python3.7/site-packages/modin/pandas/__init__.py\u001b[0m in \u001b[0;36m_update_engine\u001b[0;34m(publisher)\u001b[0m\n\u001b[1;32m    125\u001b[0m             \u001b[0;32mfrom\u001b[0m \u001b[0mmodin\u001b[0m\u001b[0;34m.\u001b[0m\u001b[0mcore\u001b[0m\u001b[0;34m.\u001b[0m\u001b[0mexecution\u001b[0m\u001b[0;34m.\u001b[0m\u001b[0mray\u001b[0m\u001b[0;34m.\u001b[0m\u001b[0mcommon\u001b[0m\u001b[0;34m.\u001b[0m\u001b[0mutils\u001b[0m \u001b[0;32mimport\u001b[0m \u001b[0minitialize_ray\u001b[0m\u001b[0;34m\u001b[0m\u001b[0;34m\u001b[0m\u001b[0m\n\u001b[1;32m    126\u001b[0m \u001b[0;34m\u001b[0m\u001b[0m\n\u001b[0;32m--> 127\u001b[0;31m             \u001b[0minitialize_ray\u001b[0m\u001b[0;34m(\u001b[0m\u001b[0;34m)\u001b[0m\u001b[0;34m\u001b[0m\u001b[0;34m\u001b[0m\u001b[0m\n\u001b[0m\u001b[1;32m    128\u001b[0m     \u001b[0;32melif\u001b[0m \u001b[0mpublisher\u001b[0m\u001b[0;34m.\u001b[0m\u001b[0mget\u001b[0m\u001b[0;34m(\u001b[0m\u001b[0;34m)\u001b[0m \u001b[0;34m==\u001b[0m \u001b[0;34m\"Native\"\u001b[0m\u001b[0;34m:\u001b[0m\u001b[0;34m\u001b[0m\u001b[0;34m\u001b[0m\u001b[0m\n\u001b[1;32m    129\u001b[0m         \u001b[0;31m# With OmniSci storage format there is only a single worker per node\u001b[0m\u001b[0;34m\u001b[0m\u001b[0;34m\u001b[0m\u001b[0;34m\u001b[0m\u001b[0m\n",
      "\u001b[0;32m/opt/conda/lib/python3.7/site-packages/modin/core/execution/ray/common/utils.py\u001b[0m in \u001b[0;36minitialize_ray\u001b[0;34m(override_is_cluster, override_redis_address, override_redis_password)\u001b[0m\n\u001b[1;32m    202\u001b[0m     )\n\u001b[1;32m    203\u001b[0m     \u001b[0mray\u001b[0m\u001b[0;34m.\u001b[0m\u001b[0mworker\u001b[0m\u001b[0;34m.\u001b[0m\u001b[0mglobal_worker\u001b[0m\u001b[0;34m.\u001b[0m\u001b[0mrun_function_on_all_workers\u001b[0m\u001b[0;34m(\u001b[0m\u001b[0m_import_pandas\u001b[0m\u001b[0;34m)\u001b[0m\u001b[0;34m\u001b[0m\u001b[0;34m\u001b[0m\u001b[0m\n\u001b[0;32m--> 204\u001b[0;31m     \u001b[0mnum_cpus\u001b[0m \u001b[0;34m=\u001b[0m \u001b[0mint\u001b[0m\u001b[0;34m(\u001b[0m\u001b[0mray\u001b[0m\u001b[0;34m.\u001b[0m\u001b[0mcluster_resources\u001b[0m\u001b[0;34m(\u001b[0m\u001b[0;34m)\u001b[0m\u001b[0;34m[\u001b[0m\u001b[0;34m\"CPU\"\u001b[0m\u001b[0;34m]\u001b[0m\u001b[0;34m)\u001b[0m\u001b[0;34m\u001b[0m\u001b[0;34m\u001b[0m\u001b[0m\n\u001b[0m\u001b[1;32m    205\u001b[0m     \u001b[0mnum_gpus\u001b[0m \u001b[0;34m=\u001b[0m \u001b[0mint\u001b[0m\u001b[0;34m(\u001b[0m\u001b[0mray\u001b[0m\u001b[0;34m.\u001b[0m\u001b[0mcluster_resources\u001b[0m\u001b[0;34m(\u001b[0m\u001b[0;34m)\u001b[0m\u001b[0;34m.\u001b[0m\u001b[0mget\u001b[0m\u001b[0;34m(\u001b[0m\u001b[0;34m\"GPU\"\u001b[0m\u001b[0;34m,\u001b[0m \u001b[0;36m0\u001b[0m\u001b[0;34m)\u001b[0m\u001b[0;34m)\u001b[0m\u001b[0;34m\u001b[0m\u001b[0;34m\u001b[0m\u001b[0m\n\u001b[1;32m    206\u001b[0m     \u001b[0;32mif\u001b[0m \u001b[0mStorageFormat\u001b[0m\u001b[0;34m.\u001b[0m\u001b[0mget\u001b[0m\u001b[0;34m(\u001b[0m\u001b[0;34m)\u001b[0m \u001b[0;34m==\u001b[0m \u001b[0;34m\"Cudf\"\u001b[0m\u001b[0;34m:\u001b[0m\u001b[0;34m\u001b[0m\u001b[0;34m\u001b[0m\u001b[0m\n",
      "\u001b[0;31mKeyError\u001b[0m: 'CPU'"
     ]
    }
   ],
   "source": [
    "import modin.pandas as pd\n",
    "import time\n",
    "\n",
    "startTime = time.time()\n",
    "\n",
    "df=pd.read_csv('/kaggle/input/meta-kaggle/UserAchievements.csv')\n",
    "\n",
    "executionTime = (time.time() - startTime)\n",
    "time='Modin Execution time in seconds: ' + str(executionTime)+'\\n'\n",
    "size=df.shape\n",
    "print(df.head())\n",
    "print(size)\n",
    "\n",
    "file_object = open('times.txt', 'a')\n",
    "\n",
    "file_object.write(time)\n",
    "#file_object.write(df.head())\n",
    "file_object.close()"
   ]
  },
  {
   "cell_type": "code",
   "execution_count": 48,
   "metadata": {
    "execution": {
     "iopub.execute_input": "2023-04-09T02:53:26.456573Z",
     "iopub.status.busy": "2023-04-09T02:53:26.456162Z",
     "iopub.status.idle": "2023-04-09T02:53:26.464360Z",
     "shell.execute_reply": "2023-04-09T02:53:26.462844Z",
     "shell.execute_reply.started": "2023-04-09T02:53:26.456539Z"
    }
   },
   "outputs": [
    {
     "name": "stdout",
     "output_type": "stream",
     "text": [
      "['Pandas Execution time in seconds: 77.24895787239075Datatable Execution time in seconds: 14.297883749008179Dask Execution time in seconds: 0.4336414337158203\\n', 'Dask Execution time in seconds: 21.3352370262146\\n']\n"
     ]
    }
   ],
   "source": [
    "with open('times.txt','r') as f:\n",
    "    lines=f.readlines()\n",
    "    \n",
    "    print(lines)  "
   ]
  },
  {
   "cell_type": "code",
   "execution_count": 60,
   "metadata": {
    "execution": {
     "iopub.execute_input": "2023-04-09T03:01:06.552205Z",
     "iopub.status.busy": "2023-04-09T03:01:06.551762Z",
     "iopub.status.idle": "2023-04-09T03:01:29.242919Z",
     "shell.execute_reply": "2023-04-09T03:01:29.241635Z",
     "shell.execute_reply.started": "2023-04-09T03:01:06.552169Z"
    }
   },
   "outputs": [
    {
     "name": "stdout",
     "output_type": "stream",
     "text": [
      "Requirement already satisfied: polars in /opt/conda/lib/python3.7/site-packages (0.16.18)\n",
      "Requirement already satisfied: typing_extensions>=4.0.1 in /opt/conda/lib/python3.7/site-packages (from polars) (4.4.0)\n",
      "\u001b[33mWARNING: Running pip as the 'root' user can result in broken permissions and conflicting behaviour with the system package manager. It is recommended to use a virtual environment instead: https://pip.pypa.io/warnings/venv\u001b[0m\u001b[33m\n",
      "\u001b[0mshape: (5, 11)\n",
      "┌─────────┬────────┬────────────┬──────┬───┬───────────────┬───────────┬─────────────┬─────────────┐\n",
      "│ Id      ┆ UserId ┆ Achievemen ┆ Tier ┆ … ┆ HighestRankin ┆ TotalGold ┆ TotalSilver ┆ TotalBronze │\n",
      "│ ---     ┆ ---    ┆ tType      ┆ ---  ┆   ┆ g             ┆ ---       ┆ ---         ┆ ---         │\n",
      "│ i64     ┆ i64    ┆ ---        ┆ i64  ┆   ┆ ---           ┆ i64       ┆ i64         ┆ i64         │\n",
      "│         ┆        ┆ str        ┆      ┆   ┆ str           ┆           ┆             ┆             │\n",
      "╞═════════╪════════╪════════════╪══════╪═══╪═══════════════╪═══════════╪═════════════╪═════════════╡\n",
      "│ 3739822 ┆ 1      ┆ Discussion ┆ 1    ┆ … ┆ 3             ┆ 0         ┆ 0           ┆ 14          │\n",
      "│ 3916402 ┆ 1      ┆ Competitio ┆ 1    ┆ … ┆               ┆ 0         ┆ 0           ┆ 0           │\n",
      "│         ┆        ┆ ns         ┆      ┆   ┆               ┆           ┆             ┆             │\n",
      "│ 3739823 ┆ 368    ┆ Competitio ┆ 1    ┆ … ┆ 75            ┆ 0         ┆ 0           ┆ 0           │\n",
      "│         ┆        ┆ ns         ┆      ┆   ┆               ┆           ┆             ┆             │\n",
      "│ 3739824 ┆ 368    ┆ Scripts    ┆ 2    ┆ … ┆ 2005          ┆ 0         ┆ 3           ┆ 14          │\n",
      "│ 3739825 ┆ 368    ┆ Discussion ┆ 2    ┆ … ┆ 319           ┆ 14        ┆ 13          ┆ 139         │\n",
      "└─────────┴────────┴────────────┴──────┴───┴───────────────┴───────────┴─────────────┴─────────────┘\n",
      "(52132908, 11)\n"
     ]
    }
   ],
   "source": [
    "import time\n",
    "!pip install polars\n",
    "import polars as pl\n",
    "\n",
    "startTime = time.time()\n",
    "\n",
    "df = pl.read_csv('/kaggle/input/meta-kaggle/UserAchievements.csv')\n",
    "\n",
    "executionTime = (time.time() - startTime)\n",
    "time='Polar Execution time in seconds: ' + str(executionTime)+'\\n'\n",
    "size=df.shape\n",
    "print(df.head())\n",
    "print(size)\n",
    "\n",
    "file_object = open('times.txt', 'a')\n",
    "\n",
    "file_object.write(time)\n",
    "#file_object.write(df.head())\n",
    "file_object.close()"
   ]
  },
  {
   "cell_type": "code",
   "execution_count": 61,
   "metadata": {
    "execution": {
     "iopub.execute_input": "2023-04-09T03:01:46.337215Z",
     "iopub.status.busy": "2023-04-09T03:01:46.336754Z",
     "iopub.status.idle": "2023-04-09T03:01:46.344558Z",
     "shell.execute_reply": "2023-04-09T03:01:46.343158Z",
     "shell.execute_reply.started": "2023-04-09T03:01:46.337180Z"
    }
   },
   "outputs": [
    {
     "name": "stdout",
     "output_type": "stream",
     "text": [
      "['Pandas Execution time in seconds: 77.24895787239075Datatable Execution time in seconds: 14.297883749008179Dask Execution time in seconds: 0.4336414337158203\\n', 'Dask Execution time in seconds: 21.3352370262146\\n', 'Polar Execution time in seconds: 12.898459196090698\\n']\n"
     ]
    }
   ],
   "source": [
    "with open('times.txt','r') as f:\n",
    "    lines=f.readlines()\n",
    "    \n",
    "    print(lines)  "
   ]
  },
  {
   "cell_type": "code",
   "execution_count": 62,
   "metadata": {
    "execution": {
     "iopub.execute_input": "2023-04-09T03:03:10.744091Z",
     "iopub.status.busy": "2023-04-09T03:03:10.743676Z",
     "iopub.status.idle": "2023-04-09T03:04:16.461753Z",
     "shell.execute_reply": "2023-04-09T03:04:16.460222Z",
     "shell.execute_reply.started": "2023-04-09T03:03:10.744056Z"
    }
   },
   "outputs": [
    {
     "name": "stdout",
     "output_type": "stream",
     "text": [
      "Requirement already satisfied: vaex in /opt/conda/lib/python3.7/site-packages (4.16.0)\n",
      "Requirement already satisfied: vaex-ml<0.19,>=0.18.1 in /opt/conda/lib/python3.7/site-packages (from vaex) (0.18.1)\n",
      "Requirement already satisfied: vaex-core<4.17,>=4.16.0 in /opt/conda/lib/python3.7/site-packages (from vaex) (4.16.1)\n",
      "Requirement already satisfied: vaex-jupyter<0.9,>=0.8.1 in /opt/conda/lib/python3.7/site-packages (from vaex) (0.8.1)\n",
      "Requirement already satisfied: vaex-viz<0.6,>=0.5.4 in /opt/conda/lib/python3.7/site-packages (from vaex) (0.5.4)\n",
      "Requirement already satisfied: vaex-server<0.9,>=0.8.1 in /opt/conda/lib/python3.7/site-packages (from vaex) (0.8.1)\n",
      "Requirement already satisfied: vaex-hdf5<0.15,>=0.13.0 in /opt/conda/lib/python3.7/site-packages (from vaex) (0.14.1)\n",
      "Requirement already satisfied: vaex-astro<0.10,>=0.9.3 in /opt/conda/lib/python3.7/site-packages (from vaex) (0.9.3)\n",
      "Requirement already satisfied: astropy in /opt/conda/lib/python3.7/site-packages (from vaex-astro<0.10,>=0.9.3->vaex) (4.3.1)\n",
      "Requirement already satisfied: numpy>=1.16 in /opt/conda/lib/python3.7/site-packages (from vaex-core<4.17,>=4.16.0->vaex) (1.21.6)\n",
      "Requirement already satisfied: tabulate>=0.8.3 in /opt/conda/lib/python3.7/site-packages (from vaex-core<4.17,>=4.16.0->vaex) (0.9.0)\n",
      "Requirement already satisfied: pandas in /opt/conda/lib/python3.7/site-packages (from vaex-core<4.17,>=4.16.0->vaex) (1.3.5)\n",
      "Requirement already satisfied: blake3 in /opt/conda/lib/python3.7/site-packages (from vaex-core<4.17,>=4.16.0->vaex) (0.2.1)\n",
      "Requirement already satisfied: filelock in /opt/conda/lib/python3.7/site-packages (from vaex-core<4.17,>=4.16.0->vaex) (3.9.0)\n",
      "Requirement already satisfied: future>=0.15.2 in /opt/conda/lib/python3.7/site-packages (from vaex-core<4.17,>=4.16.0->vaex) (0.18.3)\n",
      "Requirement already satisfied: aplus in /opt/conda/lib/python3.7/site-packages (from vaex-core<4.17,>=4.16.0->vaex) (0.11.0)\n",
      "Requirement already satisfied: rich in /opt/conda/lib/python3.7/site-packages (from vaex-core<4.17,>=4.16.0->vaex) (13.2.0)\n",
      "Requirement already satisfied: pyarrow>=5.0.0 in /opt/conda/lib/python3.7/site-packages (from vaex-core<4.17,>=4.16.0->vaex) (6.0.1)\n",
      "Requirement already satisfied: frozendict!=2.2.0 in /opt/conda/lib/python3.7/site-packages (from vaex-core<4.17,>=4.16.0->vaex) (2.3.6)\n",
      "Requirement already satisfied: six in /opt/conda/lib/python3.7/site-packages (from vaex-core<4.17,>=4.16.0->vaex) (1.16.0)\n",
      "Requirement already satisfied: progressbar2 in /opt/conda/lib/python3.7/site-packages (from vaex-core<4.17,>=4.16.0->vaex) (4.2.0)\n",
      "Requirement already satisfied: pydantic>=1.8.0 in /opt/conda/lib/python3.7/site-packages (from vaex-core<4.17,>=4.16.0->vaex) (1.10.4)\n",
      "Requirement already satisfied: pyyaml in /opt/conda/lib/python3.7/site-packages (from vaex-core<4.17,>=4.16.0->vaex) (6.0)\n",
      "Requirement already satisfied: requests in /opt/conda/lib/python3.7/site-packages (from vaex-core<4.17,>=4.16.0->vaex) (2.28.2)\n",
      "Requirement already satisfied: nest-asyncio>=1.3.3 in /opt/conda/lib/python3.7/site-packages (from vaex-core<4.17,>=4.16.0->vaex) (1.5.6)\n",
      "Requirement already satisfied: dask!=2022.4.0 in /opt/conda/lib/python3.7/site-packages (from vaex-core<4.17,>=4.16.0->vaex) (2022.2.0)\n",
      "Requirement already satisfied: cloudpickle in /opt/conda/lib/python3.7/site-packages (from vaex-core<4.17,>=4.16.0->vaex) (2.2.1)\n",
      "Requirement already satisfied: h5py>=2.9 in /opt/conda/lib/python3.7/site-packages (from vaex-hdf5<0.15,>=0.13.0->vaex) (3.8.0)\n",
      "Requirement already satisfied: ipyvolume>=0.4 in /opt/conda/lib/python3.7/site-packages (from vaex-jupyter<0.9,>=0.8.1->vaex) (0.6.1)\n",
      "Requirement already satisfied: ipyvuetify<2,>=1.2.2 in /opt/conda/lib/python3.7/site-packages (from vaex-jupyter<0.9,>=0.8.1->vaex) (1.8.5)\n",
      "Requirement already satisfied: ipympl in /opt/conda/lib/python3.7/site-packages (from vaex-jupyter<0.9,>=0.8.1->vaex) (0.7.0)\n",
      "Requirement already satisfied: xarray in /opt/conda/lib/python3.7/site-packages (from vaex-jupyter<0.9,>=0.8.1->vaex) (0.20.2)\n",
      "Requirement already satisfied: bqplot>=0.10.1 in /opt/conda/lib/python3.7/site-packages (from vaex-jupyter<0.9,>=0.8.1->vaex) (0.12.37)\n",
      "Requirement already satisfied: ipyleaflet in /opt/conda/lib/python3.7/site-packages (from vaex-jupyter<0.9,>=0.8.1->vaex) (0.17.2)\n",
      "Requirement already satisfied: jinja2 in /opt/conda/lib/python3.7/site-packages (from vaex-ml<0.19,>=0.18.1->vaex) (3.1.2)\n",
      "Requirement already satisfied: numba in /opt/conda/lib/python3.7/site-packages (from vaex-ml<0.19,>=0.18.1->vaex) (0.56.4)\n",
      "Requirement already satisfied: traitlets in /opt/conda/lib/python3.7/site-packages (from vaex-ml<0.19,>=0.18.1->vaex) (5.8.1)\n",
      "Requirement already satisfied: tornado>4.1 in /opt/conda/lib/python3.7/site-packages (from vaex-server<0.9,>=0.8.1->vaex) (6.2)\n",
      "Requirement already satisfied: fastapi in /opt/conda/lib/python3.7/site-packages (from vaex-server<0.9,>=0.8.1->vaex) (0.89.1)\n",
      "Requirement already satisfied: cachetools in /opt/conda/lib/python3.7/site-packages (from vaex-server<0.9,>=0.8.1->vaex) (4.2.4)\n",
      "Requirement already satisfied: uvicorn[standard] in /opt/conda/lib/python3.7/site-packages (from vaex-server<0.9,>=0.8.1->vaex) (0.20.0)\n",
      "Requirement already satisfied: pillow in /opt/conda/lib/python3.7/site-packages (from vaex-viz<0.6,>=0.5.4->vaex) (9.4.0)\n",
      "Requirement already satisfied: matplotlib>=1.3.1 in /opt/conda/lib/python3.7/site-packages (from vaex-viz<0.6,>=0.5.4->vaex) (3.5.3)\n",
      "Requirement already satisfied: traittypes>=0.0.6 in /opt/conda/lib/python3.7/site-packages (from bqplot>=0.10.1->vaex-jupyter<0.9,>=0.8.1->vaex) (0.2.1)\n",
      "Requirement already satisfied: ipywidgets<9,>=7.5.0 in /opt/conda/lib/python3.7/site-packages (from bqplot>=0.10.1->vaex-jupyter<0.9,>=0.8.1->vaex) (7.7.1)\n",
      "Requirement already satisfied: toolz>=0.8.2 in /opt/conda/lib/python3.7/site-packages (from dask!=2022.4.0->vaex-core<4.17,>=4.16.0->vaex) (0.11.2)\n",
      "Requirement already satisfied: partd>=0.3.10 in /opt/conda/lib/python3.7/site-packages (from dask!=2022.4.0->vaex-core<4.17,>=4.16.0->vaex) (1.3.0)\n",
      "Requirement already satisfied: fsspec>=0.6.0 in /opt/conda/lib/python3.7/site-packages (from dask!=2022.4.0->vaex-core<4.17,>=4.16.0->vaex) (2023.1.0)\n",
      "Requirement already satisfied: packaging>=20.0 in /opt/conda/lib/python3.7/site-packages (from dask!=2022.4.0->vaex-core<4.17,>=4.16.0->vaex) (23.0)\n",
      "Requirement already satisfied: ipywebrtc in /opt/conda/lib/python3.7/site-packages (from ipyvolume>=0.4->vaex-jupyter<0.9,>=0.8.1->vaex) (0.6.0)\n",
      "Requirement already satisfied: pythreejs>=2.4.0 in /opt/conda/lib/python3.7/site-packages (from ipyvolume>=0.4->vaex-jupyter<0.9,>=0.8.1->vaex) (2.4.2)\n",
      "Requirement already satisfied: ipyvue>=1.7.0 in /opt/conda/lib/python3.7/site-packages (from ipyvolume>=0.4->vaex-jupyter<0.9,>=0.8.1->vaex) (1.9.0)\n",
      "Requirement already satisfied: cycler>=0.10 in /opt/conda/lib/python3.7/site-packages (from matplotlib>=1.3.1->vaex-viz<0.6,>=0.5.4->vaex) (0.11.0)\n",
      "Requirement already satisfied: python-dateutil>=2.7 in /opt/conda/lib/python3.7/site-packages (from matplotlib>=1.3.1->vaex-viz<0.6,>=0.5.4->vaex) (2.8.2)\n",
      "Requirement already satisfied: fonttools>=4.22.0 in /opt/conda/lib/python3.7/site-packages (from matplotlib>=1.3.1->vaex-viz<0.6,>=0.5.4->vaex) (4.38.0)\n",
      "Requirement already satisfied: pyparsing>=2.2.1 in /opt/conda/lib/python3.7/site-packages (from matplotlib>=1.3.1->vaex-viz<0.6,>=0.5.4->vaex) (3.0.9)\n",
      "Requirement already satisfied: kiwisolver>=1.0.1 in /opt/conda/lib/python3.7/site-packages (from matplotlib>=1.3.1->vaex-viz<0.6,>=0.5.4->vaex) (1.4.4)\n",
      "Requirement already satisfied: pytz>=2017.3 in /opt/conda/lib/python3.7/site-packages (from pandas->vaex-core<4.17,>=4.16.0->vaex) (2022.7.1)\n",
      "Requirement already satisfied: typing-extensions>=4.2.0 in /opt/conda/lib/python3.7/site-packages (from pydantic>=1.8.0->vaex-core<4.17,>=4.16.0->vaex) (4.4.0)\n",
      "Requirement already satisfied: importlib-metadata in /opt/conda/lib/python3.7/site-packages (from astropy->vaex-astro<0.10,>=0.9.3->vaex) (4.11.4)\n",
      "Requirement already satisfied: pyerfa>=1.7.3 in /opt/conda/lib/python3.7/site-packages (from astropy->vaex-astro<0.10,>=0.9.3->vaex) (2.0.0.3)\n",
      "Requirement already satisfied: starlette==0.22.0 in /opt/conda/lib/python3.7/site-packages (from fastapi->vaex-server<0.9,>=0.8.1->vaex) (0.22.0)\n",
      "Requirement already satisfied: anyio<5,>=3.4.0 in /opt/conda/lib/python3.7/site-packages (from starlette==0.22.0->fastapi->vaex-server<0.9,>=0.8.1->vaex) (3.6.2)\n",
      "Requirement already satisfied: xyzservices>=2021.8.1 in /opt/conda/lib/python3.7/site-packages (from ipyleaflet->vaex-jupyter<0.9,>=0.8.1->vaex) (2023.2.0)\n",
      "Requirement already satisfied: branca>=0.5.0 in /opt/conda/lib/python3.7/site-packages (from ipyleaflet->vaex-jupyter<0.9,>=0.8.1->vaex) (0.6.0)\n",
      "Requirement already satisfied: ipykernel>=4.7 in /opt/conda/lib/python3.7/site-packages (from ipympl->vaex-jupyter<0.9,>=0.8.1->vaex) (6.16.2)\n",
      "Requirement already satisfied: MarkupSafe>=2.0 in /opt/conda/lib/python3.7/site-packages (from jinja2->vaex-ml<0.19,>=0.18.1->vaex) (2.1.1)\n",
      "Requirement already satisfied: llvmlite<0.40,>=0.39.0dev0 in /opt/conda/lib/python3.7/site-packages (from numba->vaex-ml<0.19,>=0.18.1->vaex) (0.39.1)\n",
      "Requirement already satisfied: setuptools in /opt/conda/lib/python3.7/site-packages (from numba->vaex-ml<0.19,>=0.18.1->vaex) (59.8.0)\n",
      "Requirement already satisfied: python-utils>=3.0.0 in /opt/conda/lib/python3.7/site-packages (from progressbar2->vaex-core<4.17,>=4.16.0->vaex) (3.5.2)\n",
      "Requirement already satisfied: urllib3<1.27,>=1.21.1 in /opt/conda/lib/python3.7/site-packages (from requests->vaex-core<4.17,>=4.16.0->vaex) (1.26.14)\n",
      "Requirement already satisfied: idna<4,>=2.5 in /opt/conda/lib/python3.7/site-packages (from requests->vaex-core<4.17,>=4.16.0->vaex) (3.4)\n",
      "Requirement already satisfied: charset-normalizer<4,>=2 in /opt/conda/lib/python3.7/site-packages (from requests->vaex-core<4.17,>=4.16.0->vaex) (2.1.1)\n",
      "Requirement already satisfied: certifi>=2017.4.17 in /opt/conda/lib/python3.7/site-packages (from requests->vaex-core<4.17,>=4.16.0->vaex) (2022.12.7)\n",
      "Requirement already satisfied: markdown-it-py<3.0.0,>=2.1.0 in /opt/conda/lib/python3.7/site-packages (from rich->vaex-core<4.17,>=4.16.0->vaex) (2.1.0)\n",
      "Requirement already satisfied: pygments<3.0.0,>=2.6.0 in /opt/conda/lib/python3.7/site-packages (from rich->vaex-core<4.17,>=4.16.0->vaex) (2.14.0)\n",
      "Requirement already satisfied: h11>=0.8 in /opt/conda/lib/python3.7/site-packages (from uvicorn[standard]->vaex-server<0.9,>=0.8.1->vaex) (0.14.0)\n",
      "Requirement already satisfied: click>=7.0 in /opt/conda/lib/python3.7/site-packages (from uvicorn[standard]->vaex-server<0.9,>=0.8.1->vaex) (8.1.3)\n",
      "Requirement already satisfied: uvloop!=0.15.0,!=0.15.1,>=0.14.0 in /opt/conda/lib/python3.7/site-packages (from uvicorn[standard]->vaex-server<0.9,>=0.8.1->vaex) (0.17.0)\n",
      "Requirement already satisfied: python-dotenv>=0.13 in /opt/conda/lib/python3.7/site-packages (from uvicorn[standard]->vaex-server<0.9,>=0.8.1->vaex) (0.21.1)\n",
      "Requirement already satisfied: httptools>=0.5.0 in /opt/conda/lib/python3.7/site-packages (from uvicorn[standard]->vaex-server<0.9,>=0.8.1->vaex) (0.5.0)\n",
      "Requirement already satisfied: watchfiles>=0.13 in /opt/conda/lib/python3.7/site-packages (from uvicorn[standard]->vaex-server<0.9,>=0.8.1->vaex) (0.19.0)\n",
      "Requirement already satisfied: websockets>=10.4 in /opt/conda/lib/python3.7/site-packages (from uvicorn[standard]->vaex-server<0.9,>=0.8.1->vaex) (11.0)\n",
      "Requirement already satisfied: jupyter-client>=6.1.12 in /opt/conda/lib/python3.7/site-packages (from ipykernel>=4.7->ipympl->vaex-jupyter<0.9,>=0.8.1->vaex) (7.4.9)\n",
      "Requirement already satisfied: pyzmq>=17 in /opt/conda/lib/python3.7/site-packages (from ipykernel>=4.7->ipympl->vaex-jupyter<0.9,>=0.8.1->vaex) (25.0.0)\n",
      "Requirement already satisfied: matplotlib-inline>=0.1 in /opt/conda/lib/python3.7/site-packages (from ipykernel>=4.7->ipympl->vaex-jupyter<0.9,>=0.8.1->vaex) (0.1.6)\n",
      "Requirement already satisfied: ipython>=7.23.1 in /opt/conda/lib/python3.7/site-packages (from ipykernel>=4.7->ipympl->vaex-jupyter<0.9,>=0.8.1->vaex) (7.34.0)\n",
      "Requirement already satisfied: psutil in /opt/conda/lib/python3.7/site-packages (from ipykernel>=4.7->ipympl->vaex-jupyter<0.9,>=0.8.1->vaex) (5.9.3)\n",
      "Requirement already satisfied: debugpy>=1.0 in /opt/conda/lib/python3.7/site-packages (from ipykernel>=4.7->ipympl->vaex-jupyter<0.9,>=0.8.1->vaex) (1.6.6)\n",
      "Requirement already satisfied: jupyterlab-widgets>=1.0.0 in /opt/conda/lib/python3.7/site-packages (from ipywidgets<9,>=7.5.0->bqplot>=0.10.1->vaex-jupyter<0.9,>=0.8.1->vaex) (3.0.5)\n",
      "Requirement already satisfied: widgetsnbextension~=3.6.0 in /opt/conda/lib/python3.7/site-packages (from ipywidgets<9,>=7.5.0->bqplot>=0.10.1->vaex-jupyter<0.9,>=0.8.1->vaex) (3.6.4)\n",
      "Requirement already satisfied: ipython-genutils~=0.2.0 in /opt/conda/lib/python3.7/site-packages (from ipywidgets<9,>=7.5.0->bqplot>=0.10.1->vaex-jupyter<0.9,>=0.8.1->vaex) (0.2.0)\n",
      "Requirement already satisfied: mdurl~=0.1 in /opt/conda/lib/python3.7/site-packages (from markdown-it-py<3.0.0,>=2.1.0->rich->vaex-core<4.17,>=4.16.0->vaex) (0.1.2)\n",
      "Requirement already satisfied: locket in /opt/conda/lib/python3.7/site-packages (from partd>=0.3.10->dask!=2022.4.0->vaex-core<4.17,>=4.16.0->vaex) (1.0.0)\n",
      "Requirement already satisfied: ipydatawidgets>=1.1.1 in /opt/conda/lib/python3.7/site-packages (from pythreejs>=2.4.0->ipyvolume>=0.4->vaex-jupyter<0.9,>=0.8.1->vaex) (4.3.3)\n",
      "Requirement already satisfied: zipp>=0.5 in /opt/conda/lib/python3.7/site-packages (from importlib-metadata->astropy->vaex-astro<0.10,>=0.9.3->vaex) (3.11.0)\n",
      "Requirement already satisfied: sniffio>=1.1 in /opt/conda/lib/python3.7/site-packages (from anyio<5,>=3.4.0->starlette==0.22.0->fastapi->vaex-server<0.9,>=0.8.1->vaex) (1.3.0)\n",
      "Requirement already satisfied: backcall in /opt/conda/lib/python3.7/site-packages (from ipython>=7.23.1->ipykernel>=4.7->ipympl->vaex-jupyter<0.9,>=0.8.1->vaex) (0.2.0)\n",
      "Requirement already satisfied: jedi>=0.16 in /opt/conda/lib/python3.7/site-packages (from ipython>=7.23.1->ipykernel>=4.7->ipympl->vaex-jupyter<0.9,>=0.8.1->vaex) (0.18.2)\n",
      "Requirement already satisfied: prompt-toolkit!=3.0.0,!=3.0.1,<3.1.0,>=2.0.0 in /opt/conda/lib/python3.7/site-packages (from ipython>=7.23.1->ipykernel>=4.7->ipympl->vaex-jupyter<0.9,>=0.8.1->vaex) (3.0.36)\n",
      "Requirement already satisfied: pickleshare in /opt/conda/lib/python3.7/site-packages (from ipython>=7.23.1->ipykernel>=4.7->ipympl->vaex-jupyter<0.9,>=0.8.1->vaex) (0.7.5)\n",
      "Requirement already satisfied: decorator in /opt/conda/lib/python3.7/site-packages (from ipython>=7.23.1->ipykernel>=4.7->ipympl->vaex-jupyter<0.9,>=0.8.1->vaex) (5.1.1)\n",
      "Requirement already satisfied: pexpect>4.3 in /opt/conda/lib/python3.7/site-packages (from ipython>=7.23.1->ipykernel>=4.7->ipympl->vaex-jupyter<0.9,>=0.8.1->vaex) (4.8.0)\n",
      "Requirement already satisfied: jupyter-core>=4.9.2 in /opt/conda/lib/python3.7/site-packages (from jupyter-client>=6.1.12->ipykernel>=4.7->ipympl->vaex-jupyter<0.9,>=0.8.1->vaex) (4.12.0)\n",
      "Requirement already satisfied: entrypoints in /opt/conda/lib/python3.7/site-packages (from jupyter-client>=6.1.12->ipykernel>=4.7->ipympl->vaex-jupyter<0.9,>=0.8.1->vaex) (0.4)\n",
      "Requirement already satisfied: notebook>=4.4.1 in /opt/conda/lib/python3.7/site-packages (from widgetsnbextension~=3.6.0->ipywidgets<9,>=7.5.0->bqplot>=0.10.1->vaex-jupyter<0.9,>=0.8.1->vaex) (6.5.2)\n",
      "Requirement already satisfied: parso<0.9.0,>=0.8.0 in /opt/conda/lib/python3.7/site-packages (from jedi>=0.16->ipython>=7.23.1->ipykernel>=4.7->ipympl->vaex-jupyter<0.9,>=0.8.1->vaex) (0.8.3)\n",
      "Requirement already satisfied: argon2-cffi in /opt/conda/lib/python3.7/site-packages (from notebook>=4.4.1->widgetsnbextension~=3.6.0->ipywidgets<9,>=7.5.0->bqplot>=0.10.1->vaex-jupyter<0.9,>=0.8.1->vaex) (21.3.0)\n",
      "Requirement already satisfied: Send2Trash>=1.8.0 in /opt/conda/lib/python3.7/site-packages (from notebook>=4.4.1->widgetsnbextension~=3.6.0->ipywidgets<9,>=7.5.0->bqplot>=0.10.1->vaex-jupyter<0.9,>=0.8.1->vaex) (1.8.0)\n",
      "Requirement already satisfied: prometheus-client in /opt/conda/lib/python3.7/site-packages (from notebook>=4.4.1->widgetsnbextension~=3.6.0->ipywidgets<9,>=7.5.0->bqplot>=0.10.1->vaex-jupyter<0.9,>=0.8.1->vaex) (0.13.1)\n",
      "Requirement already satisfied: terminado>=0.8.3 in /opt/conda/lib/python3.7/site-packages (from notebook>=4.4.1->widgetsnbextension~=3.6.0->ipywidgets<9,>=7.5.0->bqplot>=0.10.1->vaex-jupyter<0.9,>=0.8.1->vaex) (0.17.1)\n",
      "Requirement already satisfied: nbclassic>=0.4.7 in /opt/conda/lib/python3.7/site-packages (from notebook>=4.4.1->widgetsnbextension~=3.6.0->ipywidgets<9,>=7.5.0->bqplot>=0.10.1->vaex-jupyter<0.9,>=0.8.1->vaex) (0.4.8)\n",
      "Requirement already satisfied: nbconvert>=5 in /opt/conda/lib/python3.7/site-packages (from notebook>=4.4.1->widgetsnbextension~=3.6.0->ipywidgets<9,>=7.5.0->bqplot>=0.10.1->vaex-jupyter<0.9,>=0.8.1->vaex) (6.4.5)\n",
      "Requirement already satisfied: nbformat in /opt/conda/lib/python3.7/site-packages (from notebook>=4.4.1->widgetsnbextension~=3.6.0->ipywidgets<9,>=7.5.0->bqplot>=0.10.1->vaex-jupyter<0.9,>=0.8.1->vaex) (5.7.3)\n",
      "Requirement already satisfied: ptyprocess>=0.5 in /opt/conda/lib/python3.7/site-packages (from pexpect>4.3->ipython>=7.23.1->ipykernel>=4.7->ipympl->vaex-jupyter<0.9,>=0.8.1->vaex) (0.7.0)\n",
      "Requirement already satisfied: wcwidth in /opt/conda/lib/python3.7/site-packages (from prompt-toolkit!=3.0.0,!=3.0.1,<3.1.0,>=2.0.0->ipython>=7.23.1->ipykernel>=4.7->ipympl->vaex-jupyter<0.9,>=0.8.1->vaex) (0.2.6)\n",
      "Requirement already satisfied: jupyter-server>=1.8 in /opt/conda/lib/python3.7/site-packages (from nbclassic>=0.4.7->notebook>=4.4.1->widgetsnbextension~=3.6.0->ipywidgets<9,>=7.5.0->bqplot>=0.10.1->vaex-jupyter<0.9,>=0.8.1->vaex) (1.23.5)\n",
      "Requirement already satisfied: notebook-shim>=0.1.0 in /opt/conda/lib/python3.7/site-packages (from nbclassic>=0.4.7->notebook>=4.4.1->widgetsnbextension~=3.6.0->ipywidgets<9,>=7.5.0->bqplot>=0.10.1->vaex-jupyter<0.9,>=0.8.1->vaex) (0.2.2)\n",
      "Requirement already satisfied: jupyterlab-pygments in /opt/conda/lib/python3.7/site-packages (from nbconvert>=5->notebook>=4.4.1->widgetsnbextension~=3.6.0->ipywidgets<9,>=7.5.0->bqplot>=0.10.1->vaex-jupyter<0.9,>=0.8.1->vaex) (0.2.2)\n",
      "Requirement already satisfied: beautifulsoup4 in /opt/conda/lib/python3.7/site-packages (from nbconvert>=5->notebook>=4.4.1->widgetsnbextension~=3.6.0->ipywidgets<9,>=7.5.0->bqplot>=0.10.1->vaex-jupyter<0.9,>=0.8.1->vaex) (4.11.1)\n",
      "Requirement already satisfied: testpath in /opt/conda/lib/python3.7/site-packages (from nbconvert>=5->notebook>=4.4.1->widgetsnbextension~=3.6.0->ipywidgets<9,>=7.5.0->bqplot>=0.10.1->vaex-jupyter<0.9,>=0.8.1->vaex) (0.6.0)\n",
      "Requirement already satisfied: defusedxml in /opt/conda/lib/python3.7/site-packages (from nbconvert>=5->notebook>=4.4.1->widgetsnbextension~=3.6.0->ipywidgets<9,>=7.5.0->bqplot>=0.10.1->vaex-jupyter<0.9,>=0.8.1->vaex) (0.7.1)\n",
      "Requirement already satisfied: bleach in /opt/conda/lib/python3.7/site-packages (from nbconvert>=5->notebook>=4.4.1->widgetsnbextension~=3.6.0->ipywidgets<9,>=7.5.0->bqplot>=0.10.1->vaex-jupyter<0.9,>=0.8.1->vaex) (6.0.0)\n",
      "Requirement already satisfied: mistune<2,>=0.8.1 in /opt/conda/lib/python3.7/site-packages (from nbconvert>=5->notebook>=4.4.1->widgetsnbextension~=3.6.0->ipywidgets<9,>=7.5.0->bqplot>=0.10.1->vaex-jupyter<0.9,>=0.8.1->vaex) (0.8.4)\n",
      "Requirement already satisfied: nbclient<0.6.0,>=0.5.0 in /opt/conda/lib/python3.7/site-packages (from nbconvert>=5->notebook>=4.4.1->widgetsnbextension~=3.6.0->ipywidgets<9,>=7.5.0->bqplot>=0.10.1->vaex-jupyter<0.9,>=0.8.1->vaex) (0.5.13)\n",
      "Requirement already satisfied: pandocfilters>=1.4.1 in /opt/conda/lib/python3.7/site-packages (from nbconvert>=5->notebook>=4.4.1->widgetsnbextension~=3.6.0->ipywidgets<9,>=7.5.0->bqplot>=0.10.1->vaex-jupyter<0.9,>=0.8.1->vaex) (1.5.0)\n",
      "Requirement already satisfied: jsonschema>=2.6 in /opt/conda/lib/python3.7/site-packages (from nbformat->notebook>=4.4.1->widgetsnbextension~=3.6.0->ipywidgets<9,>=7.5.0->bqplot>=0.10.1->vaex-jupyter<0.9,>=0.8.1->vaex) (4.17.3)\n",
      "Requirement already satisfied: fastjsonschema in /opt/conda/lib/python3.7/site-packages (from nbformat->notebook>=4.4.1->widgetsnbextension~=3.6.0->ipywidgets<9,>=7.5.0->bqplot>=0.10.1->vaex-jupyter<0.9,>=0.8.1->vaex) (2.16.2)\n",
      "Requirement already satisfied: argon2-cffi-bindings in /opt/conda/lib/python3.7/site-packages (from argon2-cffi->notebook>=4.4.1->widgetsnbextension~=3.6.0->ipywidgets<9,>=7.5.0->bqplot>=0.10.1->vaex-jupyter<0.9,>=0.8.1->vaex) (21.2.0)\n",
      "Requirement already satisfied: pyrsistent!=0.17.0,!=0.17.1,!=0.17.2,>=0.14.0 in /opt/conda/lib/python3.7/site-packages (from jsonschema>=2.6->nbformat->notebook>=4.4.1->widgetsnbextension~=3.6.0->ipywidgets<9,>=7.5.0->bqplot>=0.10.1->vaex-jupyter<0.9,>=0.8.1->vaex) (0.19.3)\n",
      "Requirement already satisfied: importlib-resources>=1.4.0 in /opt/conda/lib/python3.7/site-packages (from jsonschema>=2.6->nbformat->notebook>=4.4.1->widgetsnbextension~=3.6.0->ipywidgets<9,>=7.5.0->bqplot>=0.10.1->vaex-jupyter<0.9,>=0.8.1->vaex) (5.10.2)\n",
      "Requirement already satisfied: pkgutil-resolve-name>=1.3.10 in /opt/conda/lib/python3.7/site-packages (from jsonschema>=2.6->nbformat->notebook>=4.4.1->widgetsnbextension~=3.6.0->ipywidgets<9,>=7.5.0->bqplot>=0.10.1->vaex-jupyter<0.9,>=0.8.1->vaex) (1.3.10)\n",
      "Requirement already satisfied: attrs>=17.4.0 in /opt/conda/lib/python3.7/site-packages (from jsonschema>=2.6->nbformat->notebook>=4.4.1->widgetsnbextension~=3.6.0->ipywidgets<9,>=7.5.0->bqplot>=0.10.1->vaex-jupyter<0.9,>=0.8.1->vaex) (22.2.0)\n",
      "Requirement already satisfied: websocket-client in /opt/conda/lib/python3.7/site-packages (from jupyter-server>=1.8->nbclassic>=0.4.7->notebook>=4.4.1->widgetsnbextension~=3.6.0->ipywidgets<9,>=7.5.0->bqplot>=0.10.1->vaex-jupyter<0.9,>=0.8.1->vaex) (1.4.2)\n",
      "Requirement already satisfied: cffi>=1.0.1 in /opt/conda/lib/python3.7/site-packages (from argon2-cffi-bindings->argon2-cffi->notebook>=4.4.1->widgetsnbextension~=3.6.0->ipywidgets<9,>=7.5.0->bqplot>=0.10.1->vaex-jupyter<0.9,>=0.8.1->vaex) (1.15.1)\n",
      "Requirement already satisfied: soupsieve>1.2 in /opt/conda/lib/python3.7/site-packages (from beautifulsoup4->nbconvert>=5->notebook>=4.4.1->widgetsnbextension~=3.6.0->ipywidgets<9,>=7.5.0->bqplot>=0.10.1->vaex-jupyter<0.9,>=0.8.1->vaex) (2.3.2.post1)\n",
      "Requirement already satisfied: webencodings in /opt/conda/lib/python3.7/site-packages (from bleach->nbconvert>=5->notebook>=4.4.1->widgetsnbextension~=3.6.0->ipywidgets<9,>=7.5.0->bqplot>=0.10.1->vaex-jupyter<0.9,>=0.8.1->vaex) (0.5.1)\n",
      "Requirement already satisfied: pycparser in /opt/conda/lib/python3.7/site-packages (from cffi>=1.0.1->argon2-cffi-bindings->argon2-cffi->notebook>=4.4.1->widgetsnbextension~=3.6.0->ipywidgets<9,>=7.5.0->bqplot>=0.10.1->vaex-jupyter<0.9,>=0.8.1->vaex) (2.21)\n",
      "\u001b[33mWARNING: Running pip as the 'root' user can result in broken permissions and conflicting behaviour with the system package manager. It is recommended to use a virtual environment instead: https://pip.pypa.io/warnings/venv\u001b[0m\u001b[33m\n",
      "\u001b[0m  #       Id    UserId  AchievementType      Tier  TierAchievementDate      Points    CurrentRanking    HighestRanking    TotalGold    TotalSilver    TotalBronze\n",
      "  0  3739822         1  Discussion              1  11/06/2019                    0               nan                 3            0              0             14\n",
      "  1  3916402         1  Competitions            1  11/06/2019                    0               nan               nan            0              0              0\n",
      "  2  3739823       368  Competitions            1  07/15/2016                  130               nan                75            0              0              0\n",
      "  3  3739824       368  Scripts                 2  09/21/2016                   38              2639              2005            0              3             14\n",
      "  4  3739825       368  Discussion              2  08/30/2016                  143               532               319           14             13            139\n",
      "  5  3739826       381  Competitions            1  07/15/2016                    2               nan              2824            0              0              0\n",
      "  6  3739827       381  Scripts                 1  07/15/2016                    0               nan               nan            0              0              0\n",
      "  7  3739828       381  Discussion              2  07/15/2016                    0              3043                82            0              1             53\n",
      "  8  3916403       383  Competitions            0  07/15/2016                    0               nan               nan            0              0              0\n",
      "  9  3916404       384  Competitions            0  07/15/2016                    0               nan               nan            0              0              0\n",
      "(52132908, 11)\n"
     ]
    }
   ],
   "source": [
    "import time\n",
    "!pip install vaex\n",
    "import vaex\n",
    "\n",
    "startTime = time.time()\n",
    "\n",
    "df = vaex.read_csv('/kaggle/input/meta-kaggle/UserAchievements.csv')\n",
    "\n",
    "executionTime = (time.time() - startTime)\n",
    "time='Vaex Execution time in seconds: ' + str(executionTime)+'\\n'\n",
    "size=df.shape\n",
    "print(df.head())\n",
    "print(size)\n",
    "\n",
    "file_object = open('times.txt', 'a')\n",
    "\n",
    "file_object.write(time)\n",
    "#file_object.write(df.head())\n",
    "file_object.close()"
   ]
  },
  {
   "cell_type": "code",
   "execution_count": 63,
   "metadata": {
    "execution": {
     "iopub.execute_input": "2023-04-09T03:04:23.747038Z",
     "iopub.status.busy": "2023-04-09T03:04:23.746653Z",
     "iopub.status.idle": "2023-04-09T03:04:23.753972Z",
     "shell.execute_reply": "2023-04-09T03:04:23.752807Z",
     "shell.execute_reply.started": "2023-04-09T03:04:23.747005Z"
    }
   },
   "outputs": [
    {
     "name": "stdout",
     "output_type": "stream",
     "text": [
      "['Pandas Execution time in seconds: 77.24895787239075Datatable Execution time in seconds: 14.297883749008179Dask Execution time in seconds: 0.4336414337158203\\n', 'Dask Execution time in seconds: 21.3352370262146\\n', 'Polar Execution time in seconds: 12.898459196090698\\n', 'Vaex Execution time in seconds: 53.11017322540283\\n']\n"
     ]
    }
   ],
   "source": [
    "with open('times.txt','r') as f:\n",
    "    lines=f.readlines()\n",
    "    \n",
    "    print(lines)  "
   ]
  },
  {
   "cell_type": "code",
   "execution_count": 72,
   "metadata": {
    "execution": {
     "iopub.execute_input": "2023-04-09T03:10:05.821529Z",
     "iopub.status.busy": "2023-04-09T03:10:05.821063Z",
     "iopub.status.idle": "2023-04-09T03:10:06.368056Z",
     "shell.execute_reply": "2023-04-09T03:10:06.366855Z",
     "shell.execute_reply.started": "2023-04-09T03:10:05.821492Z"
    }
   },
   "outputs": [
    {
     "name": "stdout",
     "output_type": "stream",
     "text": [
      "+-------+------+---------------+----+-------------------+------+--------------+--------------+---------+-----------+-----------+\n",
      "|     Id|UserId|AchievementType|Tier|TierAchievementDate|Points|CurrentRanking|HighestRanking|TotalGold|TotalSilver|TotalBronze|\n",
      "+-------+------+---------------+----+-------------------+------+--------------+--------------+---------+-----------+-----------+\n",
      "|3739822|     1|     Discussion|   1|         11/06/2019|     0|          null|             3|        0|          0|         14|\n",
      "|3916402|     1|   Competitions|   1|         11/06/2019|     0|          null|          null|        0|          0|          0|\n",
      "|3739823|   368|   Competitions|   1|         07/15/2016|   130|          null|            75|        0|          0|          0|\n",
      "|3739824|   368|        Scripts|   2|         09/21/2016|    38|          2639|          2005|        0|          3|         14|\n",
      "|3739825|   368|     Discussion|   2|         08/30/2016|   143|           532|           319|       14|         13|        139|\n",
      "|3739826|   381|   Competitions|   1|         07/15/2016|     2|          null|          2824|        0|          0|          0|\n",
      "|3739827|   381|        Scripts|   1|         07/15/2016|     0|          null|          null|        0|          0|          0|\n",
      "|3739828|   381|     Discussion|   2|         07/15/2016|     0|          3043|            82|        0|          1|         53|\n",
      "|3916403|   383|   Competitions|   0|         07/15/2016|     0|          null|          null|        0|          0|          0|\n",
      "|3916404|   384|   Competitions|   0|         07/15/2016|     0|          null|          null|        0|          0|          0|\n",
      "|3916405|   385|   Competitions|   0|         07/15/2016|     0|          null|          null|        0|          0|          0|\n",
      "|3916406|   386|   Competitions|   0|         07/15/2016|     0|          null|          null|        0|          0|          0|\n",
      "|3739829|   387|     Discussion|   0|         07/15/2016|     0|          null|          null|        0|          1|          0|\n",
      "|3916407|   387|   Competitions|   0|         07/15/2016|     0|          null|          null|        0|          0|          0|\n",
      "|3916408|   388|   Competitions|   0|         07/15/2016|     0|          null|          null|        0|          0|          0|\n",
      "|3916409|   390|   Competitions|   0|         07/15/2016|     0|          null|          null|        0|          0|          0|\n",
      "|3916410|   391|   Competitions|   0|         07/15/2016|     0|          null|          null|        0|          0|          0|\n",
      "|3739830|   392|   Competitions|   3|         07/15/2016|    53|          9255|            85|        1|          7|          0|\n",
      "|3739831|   392|     Discussion|   1|         04/09/2018|     0|          null|          null|        0|          0|          2|\n",
      "|3739832|   394|   Competitions|   1|         07/15/2016|     7|          null|          null|        1|          0|          0|\n",
      "+-------+------+---------------+----+-------------------+------+--------------+--------------+---------+-----------+-----------+\n",
      "only showing top 20 rows\n",
      "\n",
      "Row(Id='3739822', UserId='1', AchievementType='Discussion', Tier='1', TierAchievementDate='11/06/2019', Points='0', CurrentRanking=None, HighestRanking='3', TotalGold='0', TotalSilver='0', TotalBronze='14')\n",
      "(52132908, 11)\n"
     ]
    }
   ],
   "source": [
    "import time\n",
    "#!pip install pyspark\n",
    "\n",
    "from pyspark.sql import SparkSession, functions as f\n",
    "\n",
    "startTime = time.time()\n",
    "\n",
    "spark2 = SparkSession.builder.appName(\"SimpleApp\").getOrCreate()\n",
    "df2 = spark2.read.option('header', True).csv('/kaggle/input/meta-kaggle/UserAchievements.csv')\n",
    "df2.show()\n",
    "executionTime = (time.time() - startTime)\n",
    "time='Pyspark Execution time in seconds: ' + str(executionTime)+'\\n'\n",
    "#size=df.shape\n",
    "print(df2.head())\n",
    "print(size)\n",
    "\n",
    "file_object = open('times.txt', 'a')\n",
    "\n",
    "file_object.write(time)\n",
    "#file_object.write(df.head())\n",
    "file_object.close()"
   ]
  },
  {
   "cell_type": "code",
   "execution_count": 73,
   "metadata": {
    "execution": {
     "iopub.execute_input": "2023-04-09T03:10:15.667228Z",
     "iopub.status.busy": "2023-04-09T03:10:15.666838Z",
     "iopub.status.idle": "2023-04-09T03:10:15.673967Z",
     "shell.execute_reply": "2023-04-09T03:10:15.672786Z",
     "shell.execute_reply.started": "2023-04-09T03:10:15.667192Z"
    }
   },
   "outputs": [
    {
     "name": "stdout",
     "output_type": "stream",
     "text": [
      "['Pandas Execution time in seconds: 77.24895787239075Datatable Execution time in seconds: 14.297883749008179Dask Execution time in seconds: 0.4336414337158203\\n', 'Dask Execution time in seconds: 21.3352370262146\\n', 'Polar Execution time in seconds: 12.898459196090698\\n', 'Vaex Execution time in seconds: 53.11017322540283\\n', 'Pyspark Execution time in seconds: 0.31328558921813965\\n', 'Pyspark Execution time in seconds: 0.24368906021118164\\n', 'Pyspark Execution time in seconds: 0.4452626705169678\\n']\n"
     ]
    }
   ],
   "source": [
    "with open('times.txt','r') as f:\n",
    "    lines=f.readlines()\n",
    "    \n",
    "    print(lines) "
   ]
  },
  {
   "cell_type": "code",
   "execution_count": null,
   "metadata": {},
   "outputs": [],
   "source": []
  }
 ],
 "metadata": {
  "kernelspec": {
   "display_name": "Python 3.10",
   "language": "python",
   "name": "python3"
  },
  "language_info": {
   "codemirror_mode": {
    "name": "ipython",
    "version": 3
   },
   "file_extension": ".py",
   "mimetype": "text/x-python",
   "name": "python",
   "nbconvert_exporter": "python",
   "pygments_lexer": "ipython3",
   "version": "3.10.9"
  }
 },
 "nbformat": 4,
 "nbformat_minor": 4
}
